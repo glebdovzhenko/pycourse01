{
 "cells": [
  {
   "cell_type": "markdown",
   "id": "68b1dee1-4b44-4a91-8764-bcee1006ade7",
   "metadata": {},
   "source": [
    "# Лабораторная работа 7\n",
    "## Анализ данных: глубокое погружение"
   ]
  },
  {
   "cell_type": "markdown",
   "id": "549be382-aecb-49df-9b28-dffc11b9c8bb",
   "metadata": {},
   "source": [
    "### Задание 1\n",
    "С помощью функции `scipy.stats.linregress` аппроксимируйте данные из файла `datasets/linear.txt` (первый стоблец — координаты $x$, второй — $y$). \n",
    "Постройте данные на графике в виде не соединённых линией маркеров, постройте аппроксимирующую функцию в виде линии"
   ]
  },
  {
   "cell_type": "code",
   "execution_count": 70,
   "id": "70467df7-5f76-401e-abe2-b14b55a49e4b",
   "metadata": {},
   "outputs": [],
   "source": [
    "# Здесь будет ваш код"
   ]
  },
  {
   "cell_type": "markdown",
   "id": "c19822d5-8a85-4227-af92-cbcd0034131e",
   "metadata": {},
   "source": [
    "### Задание 2\n",
    "Аппроксимируйте те же данные что и в задании 1, но задайте линейную функцию самостоятельно и воспользуйтесь оптимизатором `scipy.optimize.curve_fit`."
   ]
  },
  {
   "cell_type": "code",
   "execution_count": 1,
   "id": "a2f0239c-e8ef-42dd-bd8f-fbce64e651c2",
   "metadata": {},
   "outputs": [],
   "source": [
    "# Здесь будет ваш код"
   ]
  },
  {
   "cell_type": "markdown",
   "id": "78c7cb64-b187-4c60-ac90-6ff7d9eb38b6",
   "metadata": {},
   "source": [
    "### Задание 3\n",
    "\n",
    "Есть данные `datasets/data6.txt` (первый столбец $x$, второй $y$), состоящие из сложного фона и пика. Аппроксимируйте их двумя функциями отдельно друг от друга\n",
    "1. Выберите область данных где присутствует только фон. Аппроксимируйте фон полиномом третьей степени\n",
    "$$ f(x|a,b,c,d) = ax^3 + bx^2 + cx + d.$$\n",
    "2. Зафиксировав оптимальные параметры фона, аппроксимируйте пик функцией\n",
    "$$ g(x) = a \\cdot \\exp\\left\\{-\\frac{(x-b)^2}{c}\\right\\}$$\n",
    "3. Выведите результаты на графике"
   ]
  },
  {
   "cell_type": "code",
   "execution_count": 35,
   "id": "6af717f0-37a8-4e84-be29-21266d36b1ff",
   "metadata": {},
   "outputs": [],
   "source": [
    "# Здесь будет ваш код"
   ]
  },
  {
   "cell_type": "code",
   "execution_count": null,
   "id": "c76aef32-8a4c-470f-9183-11c142843d91",
   "metadata": {},
   "outputs": [],
   "source": []
  }
 ],
 "metadata": {
  "kernelspec": {
   "display_name": "Python 3 (ipykernel)",
   "language": "python",
   "name": "python3"
  },
  "language_info": {
   "codemirror_mode": {
    "name": "ipython",
    "version": 3
   },
   "file_extension": ".py",
   "mimetype": "text/x-python",
   "name": "python",
   "nbconvert_exporter": "python",
   "pygments_lexer": "ipython3",
   "version": "3.11.9"
  }
 },
 "nbformat": 4,
 "nbformat_minor": 5
}
