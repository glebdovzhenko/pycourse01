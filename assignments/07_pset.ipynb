{
 "cells": [
  {
   "cell_type": "markdown",
   "id": "68b1dee1-4b44-4a91-8764-bcee1006ade7",
   "metadata": {},
   "source": [
    "# Лабораторная работа 7\n",
    "## Анализ данных: глубокое погружение"
   ]
  },
  {
   "cell_type": "markdown",
   "id": "549be382-aecb-49df-9b28-dffc11b9c8bb",
   "metadata": {},
   "source": [
    "### Задание 1\n",
    "С помощью функции `scipy.stats.linregress` аппроксимируйте данные из файла `datasets/linear.txt` (первый стоблец — координаты $x$, второй — $y$). \n",
    "Постройте данные на графике в виде не соединённых линией маркеров, постройте аппроксимирующую функцию в виде линии"
   ]
  },
  {
   "cell_type": "code",
   "execution_count": 70,
   "id": "70467df7-5f76-401e-abe2-b14b55a49e4b",
   "metadata": {},
   "outputs": [],
   "source": [
    "# Здесь будет ваш код"
   ]
  },
  {
   "cell_type": "markdown",
   "id": "c19822d5-8a85-4227-af92-cbcd0034131e",
   "metadata": {},
   "source": [
    "### Задание 2\n",
    "Аппроксимируйте те же данные что и в задании 1, но задайте линейную функцию самостоятельно и воспользуйтесь оптимизатором `scipy.optimize.curve_fit`."
   ]
  },
  {
   "cell_type": "code",
   "execution_count": 69,
   "id": "a2f0239c-e8ef-42dd-bd8f-fbce64e651c2",
   "metadata": {},
   "outputs": [],
   "source": [
    "# Здесь будет ваш код"
   ]
  },
  {
   "cell_type": "markdown",
   "id": "11d4619c-f2c9-4cf3-83cd-ee7068a10d23",
   "metadata": {},
   "source": [
    "### Задание 3\n",
    "* Прочитайте файл `'datasets/multigauss.txt'` (первый стоблец — координаты $x$, второй — $y$). Постройте данные из файла на графике. Эти данные представляют собой набор Гауссовых функций центры которых примерно равноудалены друг от друга с $\\Delta x = 2.5$.\n",
    "* Ваша задача — построить огибающую параболу этих Гауссовых пиков. Результат должен выглядеть примерно так:\n",
    "<div>\n",
    "<img src=\"img/fig.png\" width=\"500\"/>\n",
    "</div>\n",
    "\n",
    "#### Подсказки:\n",
    "* Можно разбить данные на равные отрезки по $x$ длиной $\\Delta x = 2.5$, каждый отрезок аппроксимировать Гауссовой функцией\n",
    "$$\n",
    "y(x |x_0, \\sigma, a) = a \\cdot \\exp \\left\\{ -0.5 \\cdot \\left(\\frac{x-x_0}{\\sigma} \\right)^2 \\right\\}\n",
    "$$\n",
    "* Взяв центры $x_0$ и амплитуды $a$ этих аппроксимаций за новый набор точек $x$ и $y$, аппроксимировать их параболой\n",
    "$$\n",
    "y(x| a, b, c) = a \\cdot x^2 + b \\cdot x + c\n",
    "$$\n",
    "* Построить эту параболу\n",
    "\n",
    "\n"
   ]
  },
  {
   "cell_type": "code",
   "execution_count": 68,
   "id": "365a111f-aa58-478e-9641-072b1ac843bb",
   "metadata": {},
   "outputs": [],
   "source": [
    "# Здесь будет ваш код"
   ]
  }
 ],
 "metadata": {
  "kernelspec": {
   "display_name": "Python 3 (ipykernel)",
   "language": "python",
   "name": "python3"
  },
  "language_info": {
   "codemirror_mode": {
    "name": "ipython",
    "version": 3
   },
   "file_extension": ".py",
   "mimetype": "text/x-python",
   "name": "python",
   "nbconvert_exporter": "python",
   "pygments_lexer": "ipython3",
   "version": "3.12.2"
  }
 },
 "nbformat": 4,
 "nbformat_minor": 5
}
