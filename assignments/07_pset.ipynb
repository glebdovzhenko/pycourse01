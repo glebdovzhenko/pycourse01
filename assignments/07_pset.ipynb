{
 "cells": [
  {
   "cell_type": "markdown",
   "id": "68b1dee1-4b44-4a91-8764-bcee1006ade7",
   "metadata": {},
   "source": [
    "# Лабораторная работа 7\n",
    "## Анализ данных: глубокое погружение"
   ]
  },
  {
   "cell_type": "markdown",
   "id": "549be382-aecb-49df-9b28-dffc11b9c8bb",
   "metadata": {},
   "source": [
    "### Задание 1"
   ]
  },
  {
   "cell_type": "code",
   "execution_count": 1,
   "id": "70467df7-5f76-401e-abe2-b14b55a49e4b",
   "metadata": {},
   "outputs": [],
   "source": [
    "# Здесь будет ваш код"
   ]
  },
  {
   "cell_type": "markdown",
   "id": "c19822d5-8a85-4227-af92-cbcd0034131e",
   "metadata": {},
   "source": [
    "### Задание 2"
   ]
  },
  {
   "cell_type": "code",
   "execution_count": 2,
   "id": "a2f0239c-e8ef-42dd-bd8f-fbce64e651c2",
   "metadata": {},
   "outputs": [],
   "source": [
    "# Здесь будет ваш код"
   ]
  },
  {
   "cell_type": "markdown",
   "id": "11d4619c-f2c9-4cf3-83cd-ee7068a10d23",
   "metadata": {},
   "source": [
    "### Задание 3"
   ]
  },
  {
   "cell_type": "code",
   "execution_count": 3,
   "id": "365a111f-aa58-478e-9641-072b1ac843bb",
   "metadata": {},
   "outputs": [],
   "source": [
    "# Здесь будет ваш код"
   ]
  },
  {
   "cell_type": "markdown",
   "id": "60675c53-07ab-4808-a8e9-bb939b156bf1",
   "metadata": {},
   "source": [
    "### Задание 4"
   ]
  },
  {
   "cell_type": "code",
   "execution_count": 4,
   "id": "ff742722-e1b2-435f-9ee6-c56a577bf53c",
   "metadata": {},
   "outputs": [],
   "source": [
    "# Здесь будет ваш код"
   ]
  },
  {
   "cell_type": "markdown",
   "id": "d91473f5-e8bb-434d-9347-1f6497949079",
   "metadata": {},
   "source": [
    "### Задание 5"
   ]
  },
  {
   "cell_type": "code",
   "execution_count": 79,
   "id": "cd9758ee-dbef-4cd6-81be-7bb3d414c525",
   "metadata": {},
   "outputs": [],
   "source": [
    "# Здесь будет ваш код"
   ]
  }
 ],
 "metadata": {
  "kernelspec": {
   "display_name": "Python 3 (ipykernel)",
   "language": "python",
   "name": "python3"
  },
  "language_info": {
   "codemirror_mode": {
    "name": "ipython",
    "version": 3
   },
   "file_extension": ".py",
   "mimetype": "text/x-python",
   "name": "python",
   "nbconvert_exporter": "python",
   "pygments_lexer": "ipython3",
   "version": "3.11.8"
  }
 },
 "nbformat": 4,
 "nbformat_minor": 5
}
