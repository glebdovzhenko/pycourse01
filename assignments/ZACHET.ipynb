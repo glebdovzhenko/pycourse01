{
 "cells": [
  {
   "cell_type": "markdown",
   "id": "d15c6191-908c-4275-bb06-fa78d248cf4a",
   "metadata": {},
   "source": [
    "# Задания на зачёт"
   ]
  },
  {
   "cell_type": "markdown",
   "id": "9ee1d12b-a088-441a-aa12-cc35d5e28de1",
   "metadata": {},
   "source": [
    "### Задание 1\n",
    "Есть строка, в которую записано предложение:\n",
    "```Python\n",
    "s1 = \"Lorem ipsum dolor sit amet, consectetur adipiscing elit, sed do eiusmod tempor incididunt ut labore et dolore magna aliqua.\"\n",
    "```\n",
    "Переставьте в этом предложении все слова так, чтобы они шли\n",
    "1. В обратном порядке\n",
    "2. В алфавитном порядке.\n",
    "\n",
    "Сделайте так, чтобы в строках-результатах не было знаков препинания в случайных местах. Выведите оба результата на печать."
   ]
  },
  {
   "cell_type": "code",
   "execution_count": 11,
   "id": "7b8d0ea7-550b-4a38-bbab-6b1869b98363",
   "metadata": {},
   "outputs": [],
   "source": [
    "# Здесь будет ваш код"
   ]
  },
  {
   "cell_type": "markdown",
   "id": "dd3a9f65-e9a1-484e-b073-7ae3268310bd",
   "metadata": {},
   "source": [
    "### Задание 2\n",
    "Постройте график функции \n",
    "$$\n",
    "f(x) = \\frac{\\sin(\\pi x)}{x}, \\,\\, x \\in [-10, 10] \n",
    "$$\n",
    "Добавьте графику заголовок и названия осей на свой вкус."
   ]
  },
  {
   "cell_type": "code",
   "execution_count": 17,
   "id": "ba32744e-0132-4e57-8210-c8cfdd0e7588",
   "metadata": {},
   "outputs": [],
   "source": [
    "# Здесь будет ваш код"
   ]
  },
  {
   "cell_type": "markdown",
   "id": "38db9634-9d3c-419f-8c0e-979e8bce095e",
   "metadata": {},
   "source": [
    "### Задание 3\n",
    "Дан список\n",
    "```Python\n",
    "xy = [[03.37, 11.35], [02.74, 07.49], [01.26, 01.60], [01.68, 02.84], [02.32, 05.36], [03.16, 09.97], [01.47, 02.17], [01.89, 03.59], [00.42, 00.18], [00.63, 00.40], [01.05, 01.11], [02.95, 08.69], [03.58, 12.81], [00.84, 00.71], [00.00, 00.00], [04.00, 16.00], [03.79, 14.36], [00.21, 00.04], [02.11, 04.43], [02.53, 06.38]]\n",
    "```\n",
    "Данные в нём представлены в виде пар координат `x`, `y` записанных в случайном порядке. Постройте на графике линию по этим координатам так, чтобы она получилась гладкой."
   ]
  },
  {
   "cell_type": "code",
   "execution_count": 46,
   "id": "676c1b78-e211-4c33-8f1e-2f2af47c5b82",
   "metadata": {},
   "outputs": [],
   "source": [
    "# Здесь будет ваш код"
   ]
  }
 ],
 "metadata": {
  "kernelspec": {
   "display_name": "Python 3 (ipykernel)",
   "language": "python",
   "name": "python3"
  },
  "language_info": {
   "codemirror_mode": {
    "name": "ipython",
    "version": 3
   },
   "file_extension": ".py",
   "mimetype": "text/x-python",
   "name": "python",
   "nbconvert_exporter": "python",
   "pygments_lexer": "ipython3",
   "version": "3.11.9"
  }
 },
 "nbformat": 4,
 "nbformat_minor": 5
}
