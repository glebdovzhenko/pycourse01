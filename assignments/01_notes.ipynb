{
 "cells": [
  {
   "cell_type": "markdown",
   "id": "e7a2bf4d-9f0d-4ad8-8fb1-b9b05261f8fa",
   "metadata": {},
   "source": [
    "# Занятие 1:\n",
    "## Основные типы и управляющие конструкции"
   ]
  },
  {
   "cell_type": "markdown",
   "id": "1c2b8250-97fe-42de-aceb-7b57e2969581",
   "metadata": {},
   "source": [
    "### Числовые типы\n",
    "Два основных числовых типа в языке Python: `int`, `float`.\n",
    "- `int` - целые числа,\n",
    "- `float` - числа с плавающей точкой (десятичные дроби).\n",
    "\n",
    "Также к числовым относится логический тип: `bool`.\n",
    "- переменные типа `bool` могут принимать одно из двух значений: `True`, `False`.\n",
    "\n",
    "### Строки\n",
    "Строковый тип называется `str`. Отдельного типа для символов нет."
   ]
  },
  {
   "cell_type": "markdown",
   "id": "38a0c94b-5378-4e25-8858-cc76092ba260",
   "metadata": {},
   "source": [
    "### Числа и операции с ними"
   ]
  },
  {
   "cell_type": "code",
   "execution_count": 1,
   "id": "5592b8d2-f650-4f70-9665-696e58f3c180",
   "metadata": {},
   "outputs": [
    {
     "name": "stdout",
     "output_type": "stream",
     "text": [
      "10\n",
      "<class 'int'>\n"
     ]
    }
   ],
   "source": [
    "# Определяя переменную явно указывать её тип необязательно.\n",
    "# Тип переменной можно менять после определения\n",
    "a = 10  # задали переменную a со значением 10. тип по умолчанию int\n",
    "# функция print() выводит на печать значения переменных.\n",
    "print(a)\n",
    "print(type(a))  # функция type() выдаёт тип переменной"
   ]
  },
  {
   "cell_type": "code",
   "execution_count": 2,
   "id": "931d1365-8d66-44c4-9e3a-22e541fd6ff3",
   "metadata": {},
   "outputs": [
    {
     "name": "stdout",
     "output_type": "stream",
     "text": [
      "2.15 <class 'float'>\n",
      "0.031 <class 'float'>\n",
      "True <class 'bool'>\n",
      "текст <class 'str'>\n"
     ]
    }
   ],
   "source": [
    "# в предыдущей ячейке мы определили переменную a\n",
    "# её значения и тип можно менять\n",
    "a = 2.15  # у десятичных дробей тип по умолчанию float\n",
    "print(a, type(a))\n",
    "# для типа float также можно пользоваться математической записью\n",
    "a = 3.1E-2  # эта запись означает 3.1 * 10^(-2)\n",
    "print(a, type(a))\n",
    "# значения типа bool:\n",
    "a = True\n",
    "print(a, type(a))\n",
    "# значения типа str:\n",
    "a = 'текст'\n",
    "print(a, type(a))"
   ]
  },
  {
   "cell_type": "code",
   "execution_count": 3,
   "id": "0c6d6891-6e61-4a99-a279-453472205273",
   "metadata": {},
   "outputs": [
    {
     "name": "stdout",
     "output_type": "stream",
     "text": [
      "что-то\n",
      "что-то ещё\n",
      "что-то ещё 1 2 3\n"
     ]
    }
   ],
   "source": [
    "# Вывод на печать одной или нескольких констант\n",
    "print('что-то')\n",
    "print('что-то ещё')\n",
    "print('что-то', 'ещё', 1, 2, 3)"
   ]
  },
  {
   "cell_type": "markdown",
   "id": "6f6172b9-af0d-4e86-b412-81b3efcb5251",
   "metadata": {},
   "source": [
    "#### Арифметические операции: \n",
    "- `+`, `-`, `*`, `/` - сложение, вычитание, умножение, деление\n",
    "- `**` - возведение в степень\n",
    "- `//`, `%` - целая часть и остаток от деления"
   ]
  },
  {
   "cell_type": "code",
   "execution_count": 4,
   "id": "b614b447-69b3-4bfb-9305-e35205391a6c",
   "metadata": {},
   "outputs": [
    {
     "name": "stdout",
     "output_type": "stream",
     "text": [
      "Сложение 5 <class 'int'>\n",
      "Деление 0.6666666666666666 <class 'float'>\n",
      "Целочисленное деление 0 <class 'int'>\n",
      "Остаток от деления 2 <class 'int'>\n"
     ]
    }
   ],
   "source": [
    "a = 2\n",
    "b = 3\n",
    "# записываем в переменные s1, d1, d2, r1 результаты разных операций\n",
    "s1 = a + b\n",
    "d1 = a / b\n",
    "d2 = a // b\n",
    "r1 = a % b\n",
    "# обратите внимание на типы результатов!\n",
    "# d1 результат деления / int на int даёт float\n",
    "# d2 результат целочисленного деления // int на int даёт int\n",
    "print('Сложение', s1, type(s1))\n",
    "print('Деление', d1, type(d1))\n",
    "print('Целочисленное деление', d2, type(d2))\n",
    "print('Остаток от деления', r1, type(r1))"
   ]
  },
  {
   "cell_type": "markdown",
   "id": "ca3d33f1-81ef-41f0-aee1-031a1a89ba35",
   "metadata": {},
   "source": [
    "#### Арифметические операции с присвоением: \n",
    "Для всех перечисленных операций есть удобное сокращение. Запись вида\n",
    "```Python\n",
    "a = a + b\n",
    "```\n",
    "сокращается до\n",
    "```Python\n",
    "a += b\n",
    "```\n",
    "Работает не только со сложением, но и с другими операциями:\n",
    "- `+=`, `-=`, `*=`, `/=` - сложение, вычитание, умножение, деление\n",
    "- `**=` - возведение в степень\n",
    "- `//=`, `%=` - целая часть и остаток от деления"
   ]
  },
  {
   "cell_type": "code",
   "execution_count": 5,
   "id": "bd4f2c76-4b76-4400-a215-81b45ee9647e",
   "metadata": {},
   "outputs": [
    {
     "name": "stdout",
     "output_type": "stream",
     "text": [
      "2\n",
      "7\n",
      "49\n"
     ]
    }
   ],
   "source": [
    "a = 2  # создаём переменную a со значением 2\n",
    "print(a)  # печатаем значение a\n",
    "a += 5  # добавляем 5 к значению a и записываем результат в a\n",
    "print(a)  # печатаем значение a\n",
    "a **= 2  # возводим во вторую степень значение a и записываем результат в a\n",
    "print(a)  # печатаем значение a"
   ]
  },
  {
   "cell_type": "markdown",
   "id": "003143c6-9021-4afd-b5ba-afef79cca1de",
   "metadata": {},
   "source": [
    "#### Логико-арифметические операции: \n",
    "Производятся с двумя числами, их результат имеет логический тип `bool`.\n",
    "\n",
    "- `==`, `!=`: равняется, не равняется\n",
    "- `>`, `<`: более, менее\n",
    "- `>=`, `<=`: не менее, не более (более либо равно, менее либо равно)"
   ]
  },
  {
   "cell_type": "code",
   "execution_count": 6,
   "id": "0e79f847-5bd3-4c35-afae-2ef4f23b0072",
   "metadata": {},
   "outputs": [
    {
     "name": "stdout",
     "output_type": "stream",
     "text": [
      "False True\n",
      "True False\n",
      "False True\n"
     ]
    }
   ],
   "source": [
    "a = 2\n",
    "b = 3\n",
    "c = 2\n",
    "print(a == b, a == c)  # a и b имеют разные значения, a и c одинаковые\n",
    "print(a != b, a != c)  # a и b имеют разные значения, a и c одинаковые\n",
    "print(a > c, a >= c)   # а больше c – ложно (False), a не менее c - истинно (True)"
   ]
  },
  {
   "cell_type": "markdown",
   "id": "84e248b6-2168-44f4-b323-05107229ddc0",
   "metadata": {},
   "source": [
    "#### Логические операции: \n",
    "Производятся с логическими переменными типа `bool`.\n",
    "\n",
    "- `and` - логическое \"И\", возвращает `True` если оба аргумента `True`, в остальных случаях возвращает `False`.\n",
    "- `or` - логическое \"ИЛИ\", возвращает `True` если хотя бы один аргумент `True`, возвращает `False` если оба аргумента `False`.\n",
    "- `not` - логическое отрицание (унарный оператор, применяется к одному аргументу). Меняет значение `True` на `False` и наоборот."
   ]
  },
  {
   "cell_type": "code",
   "execution_count": 7,
   "id": "cb2bce6d-ea70-44a3-9fa4-b0c6e3895508",
   "metadata": {},
   "outputs": [
    {
     "name": "stdout",
     "output_type": "stream",
     "text": [
      "and: False False\n",
      "or: True True\n",
      "not: False True\n"
     ]
    }
   ],
   "source": [
    "a = True\n",
    "b = False\n",
    "# операторы and и or коммутативны, т.е. результат не зависит от перемены местами аргументов\n",
    "print('and:', a and b, b and a)  # логическое и \n",
    "print('or:', a or b, b or a)   # логическое или\n",
    "print('not:', not a, not b)    # логическое отрицание"
   ]
  },
  {
   "cell_type": "markdown",
   "id": "304d4882-3c4b-4fb5-8432-919edf2be454",
   "metadata": {},
   "source": [
    "### Ветвление\n",
    "Оператор ветвления выглядит следующим образом:\n",
    "```Python\n",
    "if CONDITION:\n",
    "    BLOCK1\n",
    "else:\n",
    "    BLOCK2\n",
    "```\n",
    "Здесь `CONDITION` это переменная или результат операции типа `bool`. \n",
    "В случае если значение `CONDITION` это `True`, выполняется блок кода `BLOCK1` и не выполняется `BLOCK2`. \n",
    "Если, значение `CONDITION` это `False`, то, наоборот, выполняется блок кода `BLOCK2` и не выполняется `BLOCK1`. \n",
    "\n",
    "**Обратите внимание** на двоеточие после `CONDITION` и после `else`, а также на то что `BLOCK1` и `BLOCK2` сдвинуты на одну табуляцию (4 пробела). Это часть синтаксиса Python!"
   ]
  },
  {
   "cell_type": "code",
   "execution_count": 8,
   "id": "d83d9fb3-d152-4eae-acca-6a5665a22973",
   "metadata": {},
   "outputs": [
    {
     "name": "stdout",
     "output_type": "stream",
     "text": [
      "a не больше b\n"
     ]
    }
   ],
   "source": [
    "a = 2\n",
    "b = 3\n",
    "if a > b:\n",
    "    print('a больше b')\n",
    "else:\n",
    "    print('a не больше b')"
   ]
  },
  {
   "cell_type": "code",
   "execution_count": 9,
   "id": "0d11635f-e23e-4fec-9709-aed26e302660",
   "metadata": {},
   "outputs": [
    {
     "name": "stdout",
     "output_type": "stream",
     "text": [
      "a не больше b\n",
      "c не больше a\n"
     ]
    }
   ],
   "source": [
    "# все блочные операторы (не только ветвление) могут быть вложены друг в друга\n",
    "# тогда количество табуляций (сдвиг) каждой строки показывают уровень вложенности, т.е. к какому блоку эта строка относится\n",
    "a = 2\n",
    "b = 3\n",
    "с = 4\n",
    "\n",
    "if a > b:\n",
    "    print('a больше b')\n",
    "else:\n",
    "    print('a не больше b')\n",
    "    if c > a:\n",
    "        print('c больше a')\n",
    "    else:\n",
    "        print('c не больше a')"
   ]
  },
  {
   "cell_type": "markdown",
   "id": "7c2a9b76-13c3-41df-b7c3-41326e8b08bc",
   "metadata": {},
   "source": [
    "Предыдущий пример можно записать иначе c помощью блока `elif`, сокращение от else - if. \n",
    "```Python\n",
    "if CONDITION1:\n",
    "    BLOCK1\n",
    "elif CONDITION2:\n",
    "    BLOCK2\n",
    "elif CONDITION3:\n",
    "    BLOCK3\n",
    "...\n",
    "else:\n",
    "    BLOCKN\n",
    "```\n",
    "Здесь последовательно проверяются условия `CONDITION1`, `CONDITION2`, … и выполняется только один из блоков кода `BLOCK1`, `BLOCK2`, … , `BLOCKN`."
   ]
  },
  {
   "cell_type": "code",
   "execution_count": 10,
   "id": "1a6fbe35-f38e-4a02-9ea5-ea2821a3dbe8",
   "metadata": {},
   "outputs": [
    {
     "name": "stdout",
     "output_type": "stream",
     "text": [
      "a не больше b\n",
      "c не больше a\n"
     ]
    }
   ],
   "source": [
    "a = 2\n",
    "b = 3\n",
    "с = 4\n",
    "\n",
    "if a > b:\n",
    "    print('a больше b')\n",
    "elif c > a:\n",
    "    print('a не больше b')\n",
    "    print('c больше a')\n",
    "else:\n",
    "    print('a не больше b')\n",
    "    print('c не больше a')"
   ]
  },
  {
   "cell_type": "markdown",
   "id": "42663b5e-3795-4de2-a5f7-d560c39a291d",
   "metadata": {},
   "source": [
    "### Цикл `while`\n",
    "В Python есть два типа циклов: `while` и `for`. Рассмотрим первый:\n",
    "```Python\n",
    "while CONDITION:\n",
    "    BLOCK\n",
    "```\n",
    "Программа проверяет условие `CONDITION`, и если его значение `True`, выполняет блок кода `BLOCK`. Затем снова возвращается к проверке, и если условие выполняется, то выполняет блок. И так далее по кругу, до тех пор пока пока значение `CONDITION` не станет `False`. Тогда программа выходит из цикла.\n",
    "\n",
    "**Обратите внимание** на двоеточие после `CONDITION`, а также на то что `BLOCK` сдвинут на одну табуляцию (4 пробела). Это часть синтаксиса Python!\n",
    "\n",
    "**Обратите внимание:** если условие `CONDITION` с первой проверки имеет значение `False`, то блок кода `BLOCK` не выполнится."
   ]
  },
  {
   "cell_type": "code",
   "execution_count": 11,
   "id": "e865ff76-64c8-4981-942b-f503994eb57b",
   "metadata": {},
   "outputs": [
    {
     "name": "stdout",
     "output_type": "stream",
     "text": [
      "0\n",
      "1\n",
      "2\n",
      "3\n",
      "4\n"
     ]
    }
   ],
   "source": [
    "ct = 0  # заводим переменную ct, записываем в неё значение 5\n",
    "while ct < 5:  # выполняем тело цикла если значение ct меньше 5\n",
    "    # зашли в тело цикла\n",
    "    print(ct)  # печатаем значение переменной ct\n",
    "    ct += 1  # увеличиваем значение ct на 1\n",
    "    # возвращаемся к проверке условия"
   ]
  },
  {
   "cell_type": "markdown",
   "id": "9a6363fb-719a-4a4e-811a-d65cfba9c283",
   "metadata": {},
   "source": [
    "В циклах также используются ключевые слова `break` и `else`. Их типичное использование выглядит так:\n",
    "```Python\n",
    "while CONDITION1:\n",
    "    BLOCK1\n",
    "    if CONDITION2:\n",
    "        break\n",
    "else:\n",
    "    BLOCK2\n",
    "```\n",
    "Команда `break` мгновенно прекращает исполнение цикла независимо от значения `CONDITION1`. При этом блок кода `BLOCK2` находящийся внутри `else` не выполнится. Если же цикл завершился по проверке условия `CONDITION1`, тогда после завершения выполнится блок `BLOCK2`. "
   ]
  },
  {
   "cell_type": "code",
   "execution_count": 12,
   "id": "6aeaec19-701a-42fc-8e95-9503aca8749c",
   "metadata": {},
   "outputs": [
    {
     "name": "stdout",
     "output_type": "stream",
     "text": [
      "0\n",
      "1\n",
      "2\n",
      "3\n",
      "4\n",
      "Прошли цикл до конца\n"
     ]
    }
   ],
   "source": [
    "# в этой ячейке попробуйте поменять значение переменной stop_early между True и False и посмотреть как меняется результат.\n",
    "ct = 0\n",
    "stop_early = False\n",
    "\n",
    "while ct < 5:\n",
    "    print(ct)\n",
    "    ct += 1\n",
    "    if stop_early:\n",
    "        if ct >= 3:\n",
    "            break\n",
    "else:\n",
    "    print('Прошли цикл до конца')\n",
    "\n",
    "# Если у stop_early значение True, то в теле цикла проверяется условие ct >= 3. \n",
    "# Тогда, как только ct достигает значения 3, выполняется команда break и цикл завершается.\n",
    "# Если у stop_early значение False, то условие ct >= 3 в теле цикла не проверяется и цикл завершается по достижению ct значения 5. \n",
    "# В этом случае выполняется также и блок внутри else и выводится на печать соответствующее сообщение."
   ]
  },
  {
   "cell_type": "code",
   "execution_count": null,
   "id": "ee5edf92-e4b3-4ae2-a975-3663c82701c6",
   "metadata": {},
   "outputs": [],
   "source": []
  },
  {
   "cell_type": "code",
   "execution_count": null,
   "id": "7cd2c1e8-e2d4-42b4-b529-9a9de92e5d0f",
   "metadata": {},
   "outputs": [],
   "source": []
  }
 ],
 "metadata": {
  "kernelspec": {
   "display_name": "Python 3 (ipykernel)",
   "language": "python",
   "name": "python3"
  },
  "language_info": {
   "codemirror_mode": {
    "name": "ipython",
    "version": 3
   },
   "file_extension": ".py",
   "mimetype": "text/x-python",
   "name": "python",
   "nbconvert_exporter": "python",
   "pygments_lexer": "ipython3",
   "version": "3.11.9"
  }
 },
 "nbformat": 4,
 "nbformat_minor": 5
}
