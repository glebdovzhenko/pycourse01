{
 "cells": [
  {
   "cell_type": "markdown",
   "id": "d155d91d-0b82-41ea-94e0-afdefc7cdf2f",
   "metadata": {},
   "source": [
    "# Лабораторная работа 6\n",
    "## Работа со стандартной библиотекой Python, работа с файлами"
   ]
  },
  {
   "cell_type": "markdown",
   "id": "7c0f4bf8-d7bb-43a9-9062-28697be3ca2c",
   "metadata": {},
   "source": [
    "#### Результаты этой лабораторной работы будут проверяться автоматически. Пожалуйста, выполняйте задания в точности так как указано, создавайте переменные с указанными в задании именами."
   ]
  },
  {
   "cell_type": "markdown",
   "id": "fb4c054e-f4a3-400c-a566-094a4b6f6494",
   "metadata": {},
   "source": [
    "### Задание 1"
   ]
  },
  {
   "cell_type": "code",
   "execution_count": null,
   "id": "5eabca10-c881-4b38-adeb-1b9e79e0b65b",
   "metadata": {},
   "outputs": [],
   "source": []
  }
 ],
 "metadata": {
  "kernelspec": {
   "display_name": "python3",
   "language": "python",
   "name": "python3"
  }
 },
 "nbformat": 4,
 "nbformat_minor": 5
}
