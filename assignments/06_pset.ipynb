{
 "cells": [
  {
   "cell_type": "markdown",
   "id": "851f88b3-d1ed-4d6a-89f1-6ff178f83ec2",
   "metadata": {},
   "source": [
    "# Лабораторная работа 6:\n",
    "## Анализ данных: углубление"
   ]
  },
  {
   "cell_type": "markdown",
   "id": "c18f7742-4d5c-4b6c-9c7e-703f9f2485ca",
   "metadata": {},
   "source": [
    "### Задание 1\n",
    "Файл `'datasets/dset01.txt'` содержит экспериментальные данные: первый столбец — время измерения, а второй, третий, и далее — измерения исследуемого параметра (всего 10). С помощью `pyplot.errorbar` постройте график зависимости среднего измеренного значения от времени, а в качестве ошибки покажите на графике стандартное отклонение по выборке."
   ]
  },
  {
   "cell_type": "code",
   "execution_count": 1,
   "id": "8f8cf7a9-52a1-443e-815b-acad68808d5d",
   "metadata": {},
   "outputs": [],
   "source": [
    "# Здесь будет ваш код"
   ]
  }
 ],
 "metadata": {
  "kernelspec": {
   "display_name": "Python 3 (ipykernel)",
   "language": "python",
   "name": "python3"
  },
  "language_info": {
   "codemirror_mode": {
    "name": "ipython",
    "version": 3
   },
   "file_extension": ".py",
   "mimetype": "text/x-python",
   "name": "python",
   "nbconvert_exporter": "python",
   "pygments_lexer": "ipython3",
   "version": "3.11.8"
  }
 },
 "nbformat": 4,
 "nbformat_minor": 5
}
