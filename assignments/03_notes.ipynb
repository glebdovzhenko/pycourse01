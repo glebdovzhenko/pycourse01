{
 "cells": [
  {
   "cell_type": "markdown",
   "id": "7d2b8bea-c4ac-459f-9249-baaf2b7dbb2a",
   "metadata": {},
   "source": [
    "# Занятие 3:\n",
    "## Строки и операции с ними."
   ]
  },
  {
   "cell_type": "markdown",
   "id": "8cd23771-1bdd-43f7-9098-ac23fbb89f25",
   "metadata": {},
   "source": [
    "Строковый тип в Python называется `str`. \n",
    "Строки это контейнеры подобные `list`, но имеющие свои особенности.\n",
    "Python версии 3+ поддерживает юникод, поэтому в строках можно использовать все символы юникода (другие алфавиты, эмодзи и прочее).\n",
    "\n",
    "Определение строк: строка-константа начинается и заканчивается одной или тремя одинарными `'` или двойными `\"` кавычками."
   ]
  },
  {
   "cell_type": "code",
   "execution_count": null,
   "id": "7fac4cdd-a17a-42dd-ab56-872bed1f3d04",
   "metadata": {},
   "outputs": [],
   "source": [
    "# обычная строка состоящая из нескольких символов\n",
    "# все эти определения эквивалентны:\n",
    "s1 = 'qased😀fsfw'  \n",
    "s1 = '''qased😀fsfw'''\n",
    "s1 = \"qased😀fsfw\"\n",
    "s1 = \"\"\"qased😀fsfw\"\"\" \n",
    "# Разница между использованием кавычек следующая:\n",
    "# в двойных кавычках можно использовать одинарные в качестве символа\n",
    "s1 = \"sdfdf 'ddfd\"\n",
    "# в трёх кавычках можно делать многострочные записи\n",
    "s1 = '''asdf\n",
    "ssdf\n",
    "sd'''"
   ]
  },
  {
   "cell_type": "code",
   "execution_count": null,
   "id": "4ace120e-e46d-47be-a840-59a3821d2e81",
   "metadata": {},
   "outputs": [
    {
     "name": "stdout",
     "output_type": "stream",
     "text": [
      "a\tb\tc\n",
      "\td\te\tf\n"
     ]
    }
   ],
   "source": [
    "# в строковых переменных можно использовать специальные символы\n",
    "# наиболее часто встречающиеся: \\t - табуляция, \\n - переход на новую строку\n",
    "# \n",
    "s2 = 'a\\tb\\tc\\n\\td\\te\\tf'\n",
    "print(s2)"
   ]
  },
  {
   "cell_type": "markdown",
   "id": "ddcf60d8-0be5-4971-8e61-da5484332113",
   "metadata": {},
   "source": [
    "### Операции со строками\n",
    "#### Доступ по индексу, срезы — как у списков `list`\n",
    "#### Проверки\n",
    "- `startswith()`, `endswith()` - начинается / заканчивается ли строка заданным набором символов\n",
    "- `find()`, `rfind()` поиск подстроки в строке слева / справа\n",
    "- `isalnum()`, `isalpha()`, `isascii()`, `isdigit()`, `islower()`, `isprintable()`, `isspace()`, `isupper()` - проверяет, состоит ли вся строка из букв и цифр / только букв / ASCII-символов / цифр / строчных букв / печатных символов / пробелов / заглавных букв\n",
    "\n",
    "#### Преобразования\n",
    "- `join()` - объединяет переданные строки в одну с заданным разделителем\n",
    "- `lower()`,  `upper()` - приводит все буквы к нижнему / верхнему регистру\n",
    "- `replace()` - заменяет в строке все встреченные подстроки заданными значениями\n",
    "- `split()` - разделяет строку по выбранному символу, представляет результат в виде списка\n",
    "    - `splitlines()` - разделяет строку по символам '\\n'\n",
    "\n"
   ]
  },
  {
   "cell_type": "code",
   "execution_count": null,
   "id": "ebc7de41-9f2b-4de2-bdcc-848151d90b71",
   "metadata": {},
   "outputs": [
    {
     "name": "stdout",
     "output_type": "stream",
     "text": [
      "01_image.png True True\n",
      "3 the Origin of Species\n"
     ]
    }
   ],
   "source": [
    "s3 = '01_image.png'\n",
    "# startswith, endswith\n",
    "print(s3, s3.startswith('01'), s3.endswith('.png'))  # возвращает True / False\n",
    "#\n",
    "s4 = 'On the Origin of Species'\n",
    "ii = s4.find('the')  # возвращает индекс элемента с которого начинается искомая подстрока\n",
    "print(ii, s4[ii:])  # печатаем срез начинающийся с этого индекса"
   ]
  },
  {
   "cell_type": "code",
   "execution_count": null,
   "id": "5739c304-4fa6-45ab-b2cf-22f2969bc465",
   "metadata": {},
   "outputs": [
    {
     "name": "stdout",
     "output_type": "stream",
     "text": [
      "A and B and C\n",
      "On the Origin of Species\n",
      "on the origin of species\n",
      "ON THE ORIGIN OF SPECIES\n"
     ]
    }
   ],
   "source": [
    "# join\n",
    "print(' and '.join(['A', 'B', 'C']))\n",
    "# lower, upper\n",
    "s4 = 'On the Origin of Species'\n",
    "print(s4)\n",
    "print(s4.lower())\n",
    "print(s4.upper())"
   ]
  },
  {
   "cell_type": "code",
   "execution_count": null,
   "id": "67b6090c-f19a-4fa8-8045-49d05d6a7b86",
   "metadata": {},
   "outputs": [
    {
     "name": "stdout",
     "output_type": "stream",
     "text": [
      "On the Origin of Species\n",
      "On the Origin of Space!\n"
     ]
    }
   ],
   "source": [
    "# replace\n",
    "s4 = 'On the Origin of Species'\n",
    "print(s4)\n",
    "print(s4.replace('Species', 'Space!'))  # заменяет строку подстрокой"
   ]
  },
  {
   "cell_type": "code",
   "execution_count": null,
   "id": "07d4fd5b-c71e-4ed2-add7-0bdb62c459c1",
   "metadata": {},
   "outputs": [
    {
     "name": "stdout",
     "output_type": "stream",
     "text": [
      "On the Origin of Species\n",
      "['On', 'the', 'Origin', 'of', 'Species']\n"
     ]
    }
   ],
   "source": [
    "# split\n",
    "s4 = 'On the Origin of Species'\n",
    "print(s4)\n",
    "print(s4.split(' '))"
   ]
  },
  {
   "cell_type": "markdown",
   "id": "21468905-9b28-49ed-a5ef-fde10c33d127",
   "metadata": {},
   "source": [
    "### Формат-строки и их использование\n",
    "Для того чтобы программно заполнять строковые переменные данными часто используются формат-строки. Формат-строки бывают двух типов: \"старого\" и \"нового\" стиля. Несмотря на название оба стиля активно используются.\n",
    "\n",
    "#### Старый стиль, через оператор `%`:\n",
    "```Python\n",
    "s = '%d %s' % (5, 'Apples')\n",
    "```\n",
    "В старом стиле для каждого типа в формат-строке есть определенный спецификатор. \n",
    "- `%s`, `%d`, `%f` - подстановка строки, целого числа, числа с плавающей точкой соответственно.\n",
    "\n",
    "#### Новый стиль через метод `format`\n",
    "```Python\n",
    "s = '{num} {what}'.format(num=5, what='Apples')\n",
    "```\n",
    "В новом стиле подстановки делаются по именам переменных, тип указывать не обязательно\n",
    "\n",
    "В обоих стилях сначала задаётся формат-строка, описывающая сообщение, а потом операция форматирования подставляет в неё конкретные значения."
   ]
  },
  {
   "cell_type": "code",
   "execution_count": null,
   "id": "334692b0-8e2d-4cff-8292-8cf745b8f563",
   "metadata": {},
   "outputs": [
    {
     "name": "stdout",
     "output_type": "stream",
     "text": [
      "Hello - 3 - 0.020000\n",
      "Hello - 3 - 0.02\n"
     ]
    }
   ],
   "source": [
    "# задаём значения переменных\n",
    "a = 'Hello'\n",
    "b = 3\n",
    "c = 2e-2\n",
    "# задаём формат-строку в старом стиле\n",
    "fs = '%s - %d - %f'\n",
    "# подставляем, печатаем - старый стиль\n",
    "print(fs % (a, b, c))\n",
    "# задаём формат-строку в новом стиле\n",
    "fs_n = '{v1} - {v2} - {v3}'\n",
    "# подставляем, печатаем - новый стиль\n",
    "print(fs_n.format(v1=a, v2=b, v3=c))"
   ]
  },
  {
   "cell_type": "markdown",
   "id": "f4f544b7-add8-4038-bc94-da9f5a616657",
   "metadata": {},
   "source": [
    "В формат-строках можно задавать параметры представления тех или иных типов. В частности, для чисел можно указывать количество ведущих нулей (0001 вместо 1), знаков после запятой, представление в научном формате "
   ]
  },
  {
   "cell_type": "code",
   "execution_count": null,
   "id": "f13aad0a-06cc-4e70-992e-091e9e1c652f",
   "metadata": {},
   "outputs": [
    {
     "name": "stdout",
     "output_type": "stream",
     "text": [
      "001\n",
      "100\n",
      "10000\n"
     ]
    }
   ],
   "source": [
    "# между % и d вставлено 03, что означает \"довести число до минимальной длины 3 надставив спереди нули\"\n",
    "print('%03d' % 1)  \n",
    "print('%03d' % 100)  \n",
    "print('%03d' % 10000)  "
   ]
  },
  {
   "cell_type": "code",
   "execution_count": null,
   "id": "93fcf186-baca-4a98-a1c0-1c19df88f132",
   "metadata": {},
   "outputs": [
    {
     "name": "stdout",
     "output_type": "stream",
     "text": [
      "0100.00\n"
     ]
    }
   ],
   "source": [
    "# для чисел с плавающей точкой можно указать полную минимальную длину (07) и число знаков после запятой (.02)\n",
    "print('%07.02f' % 100) # кстати, здесь мы передаём целое число в формат-строку ожидающую число с плавающей точкой и происходит автоматическое приведение типов"
   ]
  },
  {
   "cell_type": "code",
   "execution_count": null,
   "id": "f4cf8b8d-025e-4c44-9a65-edb79d470b57",
   "metadata": {},
   "outputs": [],
   "source": []
  }
 ],
 "metadata": {
  "kernelspec": {
   "display_name": "Python 3 (ipykernel)",
   "language": "python",
   "name": "python3"
  },
  "language_info": {
   "codemirror_mode": {
    "name": "ipython",
    "version": 3
   },
   "file_extension": ".py",
   "mimetype": "text/x-python",
   "name": "python",
   "nbconvert_exporter": "python",
   "pygments_lexer": "ipython3",
   "version": "3.11.7"
  }
 },
 "nbformat": 4,
 "nbformat_minor": 5
}
