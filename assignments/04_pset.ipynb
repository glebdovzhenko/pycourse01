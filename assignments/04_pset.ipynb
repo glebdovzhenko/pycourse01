{
 "cells": [
  {
   "cell_type": "code",
   "execution_count": null,
   "id": "41884799-bc2e-4734-a7d5-6838cad0bbe7",
   "metadata": {},
   "outputs": [],
   "source": []
  }
 ],
 "metadata": {
  "kernelspec": {
   "display_name": "python3",
   "language": "python",
   "name": "python3"
  }
 },
 "nbformat": 4,
 "nbformat_minor": 5
}
