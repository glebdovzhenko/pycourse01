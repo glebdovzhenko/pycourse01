{
 "cells": [
  {
   "cell_type": "markdown",
   "id": "7bf34c63-43d9-4fed-a6ab-61b5de6cb319",
   "metadata": {},
   "source": [
    "# Лабораторная работа 4\n",
    "## Структурирование кода: функции, модули, классы."
   ]
  },
  {
   "cell_type": "markdown",
   "id": "a7382ae0-642a-4e09-baf3-6a2077b57657",
   "metadata": {},
   "source": [
    "#### Результаты этой лабораторной работы будут проверяться автоматически. Пожалуйста, выполняйте задания в точности так как указано, создавайте переменные с указанными в задании именами."
   ]
  },
  {
   "cell_type": "markdown",
   "id": "abe27da6-0f91-48ce-8067-f526311bb0a0",
   "metadata": {},
   "source": [
    "### Задание 1"
   ]
  },
  {
   "cell_type": "code",
   "execution_count": null,
   "id": "c835ce60-6787-455d-817d-cc84e6b45d84",
   "metadata": {},
   "outputs": [],
   "source": []
  }
 ],
 "metadata": {
  "kernelspec": {
   "display_name": "python3",
   "language": "python",
   "name": "python3"
  }
 },
 "nbformat": 4,
 "nbformat_minor": 5
}
