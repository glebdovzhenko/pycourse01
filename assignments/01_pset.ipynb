{
 "cells": [
  {
   "cell_type": "markdown",
   "id": "ff5bfbe8-703c-4fb2-badc-0694d6018a6b",
   "metadata": {},
   "source": [
    "# Лабораторная работа 1\n",
    "## Основные типы и управляющие конструкции"
   ]
  },
  {
   "cell_type": "markdown",
   "id": "7340718f-4d20-4b91-9ede-3661766365ec",
   "metadata": {},
   "source": [
    "#### Результаты этой лабораторной работы будут проверяться автоматически. Пожалуйста, выполняйте задания в точности так как указано, создавайте переменные с указанными в задании именами."
   ]
  },
  {
   "cell_type": "markdown",
   "id": "d8a6ba77-9a13-4973-ab51-6fe2dba89d28",
   "metadata": {},
   "source": [
    "### Задание 1\n",
    "- С помощью цикла `while` выведите на печать чётные числа с 0 до 20"
   ]
  },
  {
   "cell_type": "code",
   "execution_count": null,
   "id": "867a20e5-6866-4c6c-bc9b-0ce8d1d1ca3d",
   "metadata": {},
   "outputs": [],
   "source": [
    "# Здесь будет ваш код"
   ]
  },
  {
   "cell_type": "markdown",
   "id": "6dc0d5e4-3785-41d0-9228-bd0c6375f0d3",
   "metadata": {},
   "source": [
    "### Задание 2\n",
    "- С помощью цикла `while` сосчитайте сумму всех нечётных чисел с 0 до 20, выведите результат на печать"
   ]
  },
  {
   "cell_type": "code",
   "execution_count": null,
   "id": "cdb162dd-7892-44e9-a9f1-ce9ced5b4edf",
   "metadata": {},
   "outputs": [],
   "source": [
    "# Здесь будет ваш код"
   ]
  },
  {
   "cell_type": "markdown",
   "id": "7f7512f8-2c04-4857-946e-4e136e24df3c",
   "metadata": {},
   "source": [
    "### Задание 3\n",
    "- Найдите все \"Пифагоровы тройки\" (наборы чисел `a`, `b`, `c`, такие что $a^2+b^2=c^2$) в которых $a, b, c < 20$"
   ]
  },
  {
   "cell_type": "code",
   "execution_count": null,
   "id": "44bd7f65-f379-423a-92cc-e6b633a59045",
   "metadata": {},
   "outputs": [],
   "source": [
    "# Здесь будет ваш код"
   ]
  },
  {
   "cell_type": "markdown",
   "id": "b274e8a8-b30f-49f3-80b4-cdb239028a6e",
   "metadata": {},
   "source": [
    "### Задание 4\n",
    "- Дано число 54321\n",
    "- Используя цикл While и операции деления с остатком и целочисленного деления, разделить число на разряды и вывести на экран\n",
    "\n",
    "Пример: для числа 123 вывод будет 100, 20, 3"
   ]
  },
  {
   "cell_type": "code",
   "execution_count": null,
   "id": "bfd9a12e-f0e9-4ac1-a5d6-12bac3b14c3e",
   "metadata": {},
   "outputs": [],
   "source": [
    "# Здесь будет ваш код"
   ]
  },
  {
   "cell_type": "markdown",
   "id": "7c7cb1d7-9ced-4e78-be2d-916185cc4ce8",
   "metadata": {},
   "source": [
    "### Задание 5\n",
    "- Дано число 111001111011111110011\n",
    "- Определить количество разрядов в числе и вывести на экран\\\n",
    "Пример: для числа 555 вывод будет 3"
   ]
  },
  {
   "cell_type": "code",
   "execution_count": null,
   "id": "ea9c64c1-3bab-4f85-89cc-bc0860a0ace1",
   "metadata": {},
   "outputs": [],
   "source": [
    "# Здесь будет ваш код"
   ]
  },
  {
   "cell_type": "markdown",
   "id": "6784dd30-4ecb-4732-b4b9-1177d265e907",
   "metadata": {},
   "source": [
    "### Задание 6\n",
    "- Рассчитайте с помощью цикла `while`  и выведите на экран числа из последовательности Фибоначчи меньшие 100"
   ]
  },
  {
   "cell_type": "code",
   "execution_count": null,
   "id": "cca5059b-c6b7-45f3-8eb5-278e3a26762f",
   "metadata": {},
   "outputs": [],
   "source": [
    "# Здесь будет ваш код"
   ]
  }
 ],
 "metadata": {
  "kernelspec": {
   "display_name": "python3",
   "language": "python",
   "name": "python3"
  }
 },
 "nbformat": 4,
 "nbformat_minor": 5
}
