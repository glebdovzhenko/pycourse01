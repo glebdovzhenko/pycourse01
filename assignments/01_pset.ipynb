{
 "cells": [
  {
   "cell_type": "markdown",
   "id": "ff5bfbe8-703c-4fb2-badc-0694d6018a6b",
   "metadata": {},
   "source": [
    "# Лабораторная работа 1\n",
    "## Основные типы и управляющие конструкции"
   ]
  },
  {
   "cell_type": "markdown",
   "id": "7340718f-4d20-4b91-9ede-3661766365ec",
   "metadata": {},
   "source": [
    "#### Результаты этой лабораторной работы будут проверяться автоматически. Пожалуйста, выполняйте задания в точности так как указано, создавайте переменные с указанными в задании именами."
   ]
  },
  {
   "cell_type": "markdown",
   "id": "d8a6ba77-9a13-4973-ab51-6fe2dba89d28",
   "metadata": {},
   "source": [
    "### Задание 1\n",
    "-"
   ]
  },
  {
   "cell_type": "code",
   "execution_count": null,
   "id": "867a20e5-6866-4c6c-bc9b-0ce8d1d1ca3d",
   "metadata": {},
   "outputs": [],
   "source": [
    "# Здесь будет ваш код"
   ]
  }
 ],
 "metadata": {
  "kernelspec": {
   "display_name": "python3",
   "language": "python",
   "name": "python3"
  }
 },
 "nbformat": 4,
 "nbformat_minor": 5
}
