{
 "cells": [
  {
   "cell_type": "markdown",
   "id": "7d2b8bea-c4ac-459f-9249-baaf2b7dbb2a",
   "metadata": {},
   "source": [
    "# Занятие 1:\n",
    "## Строки и операции с ними. Регулярные выражения"
   ]
  },
  {
   "cell_type": "code",
   "execution_count": null,
   "id": "e28006e5-e4df-4d3e-aba7-3e933030242f",
   "metadata": {},
   "outputs": [],
   "source": []
  }
 ],
 "metadata": {
  "kernelspec": {
   "display_name": "Python 3 (ipykernel)",
   "language": "python",
   "name": "python3"
  },
  "language_info": {
   "codemirror_mode": {
    "name": "ipython",
    "version": 3
   },
   "file_extension": ".py",
   "mimetype": "text/x-python",
   "name": "python",
   "nbconvert_exporter": "python",
   "pygments_lexer": "ipython3",
   "version": "3.11.5"
  }
 },
 "nbformat": 4,
 "nbformat_minor": 5
}
