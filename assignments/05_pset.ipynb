{
 "cells": [
  {
   "cell_type": "markdown",
   "id": "68b1dee1-4b44-4a91-8764-bcee1006ade7",
   "metadata": {},
   "source": [
    "# Лабораторная работа 5\n",
    "## Анализ данных: основы"
   ]
  },
  {
   "cell_type": "markdown",
   "id": "0edf4b09-212e-4988-9d22-08aafde342d8",
   "metadata": {},
   "source": [
    "### Задание 1\n",
    "Задан массив размера $2\\times5$ \n",
    "```Python\n",
    "t1_a1 = np.array([[1, 2, 3, 4, 5], [9, 2, 1, 4, 5]])\n",
    "```\n",
    "- Транспонируйте его, выведите на печать\n",
    "- Транспонированный массив отсортируйте по первому (если считать с нуля) столбцу, выведите результат на печать\n",
    "- Поменяйте местами столбцы массива из предыдущего пункта, выведите результат на печать (отсортированный столбец теперь должен стать нулевым)"
   ]
  },
  {
   "cell_type": "code",
   "execution_count": 144,
   "id": "b977ae15-c8be-4cca-b9af-fb372ce056d6",
   "metadata": {},
   "outputs": [],
   "source": [
    "# Здесь будет ваш код"
   ]
  },
  {
   "cell_type": "markdown",
   "id": "3e70a6a6-3571-48c5-b88c-a2c74bac1e86",
   "metadata": {},
   "source": [
    "### Задание 2\n",
    "- Постройте график функции $f(x) = x^2+4\\cdot\\sin(\\pi x)$. Выберите диапазон по $x \\in [0, 10]$ и шаг $0.1$."
   ]
  },
  {
   "cell_type": "code",
   "execution_count": null,
   "id": "d830cb04-40ad-43bd-9b32-7c733f41331c",
   "metadata": {},
   "outputs": [],
   "source": [
    "# Здесь будет ваш код"
   ]
  },
  {
   "attachments": {},
   "cell_type": "markdown",
   "id": "e44e1dea-1aef-43ef-8bc8-05db995e715b",
   "metadata": {},
   "source": [
    "### Задание 3\n",
    "- Воспользовавшись функцией `np.loadtxt` прочитайте из файла `datasets/data1.txt` массив. Первым столбцом идут координаты `x`, вторым значения `y`.\n",
    "- Постройте точечную диаграмму по этим данным.\n",
    "- Удалите из массива выбивающиеся значения (больше `0.5` и меньше `0`).\n",
    "- Посчитайте среднее значение оставшихся значений `y`.\n",
    "- Постройте горизонтальную пунктирную линию красного цвета, проходящую через усредненное значение `y`."
   ]
  },
  {
   "cell_type": "code",
   "execution_count": 145,
   "id": "734298bf-9953-42b5-8a21-7e828c9ab69a",
   "metadata": {},
   "outputs": [],
   "source": [
    "# Здесь будет ваш код"
   ]
  },
  {
   "cell_type": "markdown",
   "id": "36479a27-41b9-411f-aa5d-248fd8f4cf14",
   "metadata": {},
   "source": [
    "### Задание 4\n",
    "Воспользовавшись функцией `np.loadtxt` прочитайте из файла `datasets/func2.txt` массив. \n",
    "Столбцы массива задают координаты `x, y1, y2, y3`.\n",
    "Постройте график функции $y(x)$:\n",
    "$$\n",
    "y(x) = \n",
    "     \\begin{cases}\n",
    "       \\text{y2} &\\quad\\text{если y3 == 0}\\\\\n",
    "       \\text{y1} &\\quad\\text{если y3 == 1}\n",
    "     \\end{cases}\n",
    "$$\n"
   ]
  },
  {
   "cell_type": "code",
   "execution_count": 146,
   "id": "4ea3135d-ab46-4a4f-a349-ff81939d532c",
   "metadata": {},
   "outputs": [],
   "source": [
    "# Здесь будет ваш код"
   ]
  },
  {
   "cell_type": "markdown",
   "id": "1dd60ac9-6bc1-48e6-a860-497c36630c8d",
   "metadata": {},
   "source": [
    "### Задание 5\n",
    "Воспользовавшись функцией `np.loadtxt` прочитайте из файла `datasets/gauss.txt` массив. \n",
    "Первым столбцом массива идут координаты `x`, остальными — несколько функций $y_i(x)$.\n",
    "Постройте эти функции на одном графике, сдвигая каждую следующую на 1 вверх: $y_0(x)$, $y_1(x) + 1$, $y_2(x) + 2$, $y_3(x) + 3$, $y_4(x) + 4$."
   ]
  },
  {
   "cell_type": "code",
   "execution_count": 147,
   "id": "19696d29-819b-4e0c-8fff-c8fe34859d21",
   "metadata": {},
   "outputs": [],
   "source": [
    "# Здесь будет ваш код"
   ]
  },
  {
   "cell_type": "markdown",
   "id": "6dea1bbd-cfb6-4dab-8819-6c9371791b0c",
   "metadata": {},
   "source": [
    "### Задание 6\n",
    "Воспользовавшись функцией `np.loadtxt` прочитайте из файла `datasets/steps.txt` массив.\n",
    "Каждая строка массива представляет собой шаг по x и y: `[dx, dy]`. Вместе последовательность шагов задаёт траекторию. Постройте эту траекторию на графике начиная с точки `[0, 0]`."
   ]
  },
  {
   "cell_type": "code",
   "execution_count": 148,
   "id": "35824fdb-db6e-45cf-abed-4966bf242333",
   "metadata": {},
   "outputs": [],
   "source": [
    "# Здесь будет ваш код"
   ]
  },
  {
   "cell_type": "markdown",
   "id": "8d301090-ed12-4194-9d13-cbbfc68d8fd0",
   "metadata": {},
   "source": [
    "### Задание 7\n",
    "Постройте график первых 4 витков логарифмической спирали, уравнение которой в полярных координатах $(r, \\theta)$ выглядит как $$r=a \\cdot \\exp \\{ b \\cdot \\theta \\}.$$\n",
    "Возьмите $a = 1$, $b = 0.15$."
   ]
  },
  {
   "cell_type": "code",
   "execution_count": 149,
   "id": "74a2dab9-c468-4c82-b4d4-1b178ca05454",
   "metadata": {},
   "outputs": [],
   "source": [
    "# Здесь будет ваш код"
   ]
  }
 ],
 "metadata": {
  "kernelspec": {
   "display_name": "Python 3 (ipykernel)",
   "language": "python",
   "name": "python3"
  },
  "language_info": {
   "codemirror_mode": {
    "name": "ipython",
    "version": 3
   },
   "file_extension": ".py",
   "mimetype": "text/x-python",
   "name": "python",
   "nbconvert_exporter": "python",
   "pygments_lexer": "ipython3",
   "version": "3.11.9"
  }
 },
 "nbformat": 4,
 "nbformat_minor": 5
}
