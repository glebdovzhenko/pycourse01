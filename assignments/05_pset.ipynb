{
 "cells": [
  {
   "cell_type": "markdown",
   "id": "68b1dee1-4b44-4a91-8764-bcee1006ade7",
   "metadata": {},
   "source": [
    "# Лабораторная работа 5\n",
    "## Ещё раз про классы."
   ]
  },
  {
   "cell_type": "markdown",
   "id": "6ea70278-0a75-49ce-b01f-28b0dfd0488f",
   "metadata": {},
   "source": [
    "#### Результаты этой лабораторной работы будут проверяться автоматически. Пожалуйста, выполняйте задания в точности так как указано, создавайте переменные с указанными в задании именами."
   ]
  },
  {
   "cell_type": "markdown",
   "id": "367b0060-2e56-4dfc-8678-77cb7c1f9bea",
   "metadata": {},
   "source": [
    "### Задание 1"
   ]
  },
  {
   "cell_type": "code",
   "execution_count": null,
   "id": "bc4947d4-8924-4fb3-9f2c-f268320fa093",
   "metadata": {},
   "outputs": [],
   "source": []
  },
  {
   "cell_type": "code",
   "execution_count": null,
   "id": "664ad8ff-4aa1-4080-b2ff-05fb5b011d6d",
   "metadata": {},
   "outputs": [],
   "source": []
  }
 ],
 "metadata": {
  "kernelspec": {
   "display_name": "Python 3 (ipykernel)",
   "language": "python",
   "name": "python3"
  },
  "language_info": {
   "codemirror_mode": {
    "name": "ipython",
    "version": 3
   },
   "file_extension": ".py",
   "mimetype": "text/x-python",
   "name": "python",
   "nbconvert_exporter": "python",
   "pygments_lexer": "ipython3",
   "version": "3.11.7"
  }
 },
 "nbformat": 4,
 "nbformat_minor": 5
}
