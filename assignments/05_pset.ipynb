{
 "cells": [
  {
   "cell_type": "markdown",
   "id": "68b1dee1-4b44-4a91-8764-bcee1006ade7",
   "metadata": {},
   "source": [
    "# Лабораторная работа 5\n",
    "## Анализ данных: основы"
   ]
  },
  {
   "cell_type": "markdown",
   "id": "0edf4b09-212e-4988-9d22-08aafde342d8",
   "metadata": {},
   "source": [
    "### Задание 1\n",
    "Задан массив размера $2\\times5$ \n",
    "```Python\n",
    "t1_a1 = np.array([[1, 2, 3, 4, 5], [9, 2, 1, 4, 5]])\n",
    "```\n",
    "- Транспонируйте его, выведите на печать\n",
    "- Транспонированный массив отсортируйте по первому (если считать с нуля) столбцу, выведите результат на печать\n",
    "- Поменяйте местами столбцы массива из предыдущего пункта, выведите результат на печать (отсортированный столбец теперь должен стать первым)"
   ]
  },
  {
   "cell_type": "code",
   "execution_count": 113,
   "id": "b977ae15-c8be-4cca-b9af-fb372ce056d6",
   "metadata": {},
   "outputs": [],
   "source": [
    "# Здесь будет ваш код"
   ]
  },
  {
   "cell_type": "markdown",
   "id": "3e70a6a6-3571-48c5-b88c-a2c74bac1e86",
   "metadata": {},
   "source": [
    "### Задание 2\n",
    "- Постройте график функции $f(x) = x^2+4\\cdot\\sin(\\pi x)$. Выберите диапазон по $x \\in [0, 10]$ и шаг $0.1$."
   ]
  },
  {
   "cell_type": "code",
   "execution_count": 123,
   "id": "734298bf-9953-42b5-8a21-7e828c9ab69a",
   "metadata": {},
   "outputs": [],
   "source": [
    "# Здесь будет ваш код"
   ]
  },
  {
   "cell_type": "markdown",
   "id": "36479a27-41b9-411f-aa5d-248fd8f4cf14",
   "metadata": {},
   "source": [
    "### Задание 3\n",
    "Воспользовавшись функцией `np.loadtxt` прочитайте из файла `datasets/func2.txt` массив. \n",
    "Столбцы массива задают координаты `x, y1, y2, y3`.\n",
    "Постройте график функции $y(x)$:\n",
    "$$\n",
    "y(x) = \n",
    "     \\begin{cases}\n",
    "       \\text{y2} &\\quad\\text{если y3 == 0}\\\\\n",
    "       \\text{y1} &\\quad\\text{если y3 == 1}\n",
    "     \\end{cases}\n",
    "$$\n"
   ]
  },
  {
   "cell_type": "code",
   "execution_count": 153,
   "id": "4ea3135d-ab46-4a4f-a349-ff81939d532c",
   "metadata": {},
   "outputs": [],
   "source": [
    "# Здесь будет ваш код"
   ]
  },
  {
   "cell_type": "markdown",
   "id": "1dd60ac9-6bc1-48e6-a860-497c36630c8d",
   "metadata": {},
   "source": [
    "### Задание 4"
   ]
  },
  {
   "cell_type": "code",
   "execution_count": null,
   "id": "19696d29-819b-4e0c-8fff-c8fe34859d21",
   "metadata": {},
   "outputs": [],
   "source": [
    "# Здесь будет ваш код"
   ]
  },
  {
   "cell_type": "markdown",
   "id": "164c11ff-a433-48ec-80af-058f677124a3",
   "metadata": {},
   "source": [
    "### Задание 5"
   ]
  },
  {
   "cell_type": "code",
   "execution_count": null,
   "id": "dd6768de-e7e4-4291-bd60-b0277f768397",
   "metadata": {},
   "outputs": [],
   "source": [
    "# Здесь будет ваш код"
   ]
  },
  {
   "cell_type": "markdown",
   "id": "1299c279-c1ac-4620-8284-1b344bdf424f",
   "metadata": {},
   "source": [
    "### Задание 6"
   ]
  },
  {
   "cell_type": "code",
   "execution_count": null,
   "id": "43105a51-ca2e-4c49-9c90-2f2dda8ce4c0",
   "metadata": {},
   "outputs": [],
   "source": [
    "# Здесь будет ваш код"
   ]
  },
  {
   "cell_type": "markdown",
   "id": "fd9d8bb2-50aa-407e-950f-d338866b01cf",
   "metadata": {},
   "source": [
    "### Задание 7"
   ]
  },
  {
   "cell_type": "code",
   "execution_count": null,
   "id": "ae9202d2-0354-4e9a-b311-4859a69628a1",
   "metadata": {},
   "outputs": [],
   "source": [
    "# Здесь будет ваш код"
   ]
  },
  {
   "cell_type": "markdown",
   "id": "c08ad72f-3773-4175-90f9-049d03a2491a",
   "metadata": {},
   "source": [
    "### Задание 8"
   ]
  },
  {
   "cell_type": "code",
   "execution_count": null,
   "id": "d74c3a45-1457-470b-b21f-c1ef531bacd5",
   "metadata": {},
   "outputs": [],
   "source": [
    "# Здесь будет ваш код"
   ]
  },
  {
   "cell_type": "markdown",
   "id": "549be382-aecb-49df-9b28-dffc11b9c8bb",
   "metadata": {},
   "source": [
    "### Задание 9\n",
    "- Возьмите функцию из задания 2:\n",
    "$$f(x) = x^2+4\\cdot\\sin(\\pi x)$$.\n",
    "- Зная первообразную функции $f$\n",
    "$$F(x) = \\frac{x^3}{3}+\\frac{4\\cdot\\cos(\\pi x)}{\\pi},$$\n",
    "сосчитайте по формуле Ньютона-Лейбница точное значение интеграла\n",
    "$$\\int_{2}^{6} \\!\\!\\mathrm{d}x\\, f(x) = F(6) - F(2).$$\n",
    "- Проинтегрируйте функцию $f$ методом Монте-Карло на том же диапазоне. Глядя на график функции, выберите разумные значения области набрасывания случайных точек. Выберите количество точек `10000`, сосчитайте результат интегрирования.\n",
    "- Постройте график зависимости результата интегрирования по МК от количества точек, на том же графике укажите в виде асимптоты настоящее значение интеграла. Рассмотрите количества точек: `[1, 10, 100, 1000, 10000]`."
   ]
  },
  {
   "cell_type": "code",
   "execution_count": 29,
   "id": "070a50f3-b270-4a31-b0d3-dda419010643",
   "metadata": {},
   "outputs": [
    {
     "name": "stdout",
     "output_type": "stream",
     "text": [
      "144.0\n",
      "67.2\n",
      "74.88\n",
      "67.456\n",
      "69.49119999999999\n"
     ]
    },
    {
     "data": {
      "text/plain": [
       "[<matplotlib.lines.Line2D at 0x111b425d0>]"
      ]
     },
     "execution_count": 29,
     "metadata": {},
     "output_type": "execute_result"
    },
    {
     "data": {
      "image/png": "[encoded data removed]",
      "text/plain": [
       "<Figure size 640x480 with 1 Axes>"
      ]
     },
     "metadata": {},
     "output_type": "display_data"
    }
   ],
   "source": [
    "# Здесь будет ваш код\n",
    "import numpy as np\n",
    "from matplotlib import pyplot as plt\n",
    "\n",
    "def f(x):\n",
    "    return x**2 + 4 * np.sin(np.pi * x)\n",
    "def ff(x):\n",
    "    return (x**3)/3. + 4 * np.cos(np.pi * x) / np.pi\n",
    "\n",
    "xs = np.arange(2, 6, .1)\n",
    "ys = f(xs)\n",
    "\n",
    "true_value = ff(6) - ff(2)\n",
    "\n",
    "meta_x, meta_y = [], []\n",
    "\n",
    "for ssize in [1, 10, 100, 1000, 10000]:\n",
    "    xs_ = np.random.uniform(low=2, high=6, size=ssize)\n",
    "    ys_ = np.random.uniform(low=f(2), high=f(6), size=ssize)\n",
    "    \n",
    "    frac = (6 - 2) * (f(6) - f(2)) * ys_[ys_ < f(xs_)].size / ys_.size\n",
    "    approx_value = frac + (6 - 2) * f(2)\n",
    "    print(approx_value)\n",
    "    meta_x.append(ssize)\n",
    "    meta_y.append(approx_value)\n",
    "plt.semilogx(meta_x, meta_y)\n",
    "plt.semilogx(meta_x, [true_value]*len(meta_x), '--')"
   ]
  },
  {
   "cell_type": "markdown",
   "id": "367b0060-2e56-4dfc-8678-77cb7c1f9bea",
   "metadata": {},
   "source": [
    "### Задание 10\n",
    "Функция задана в файле `datasets/func1.txt` виде набора точек: каждая строка — пара координат x, y. \n",
    "Прочтите функцию из файла (можно воспользоваться функцией `np.loadtxt()` и сразу получить numpy-массив), постройте график этой функции.\n",
    "Проинтегрируйте функцию методом трапеций."
   ]
  },
  {
   "cell_type": "code",
   "execution_count": 79,
   "id": "ff742722-e1b2-435f-9ee6-c56a577bf53c",
   "metadata": {},
   "outputs": [],
   "source": [
    "# Здесь будет ваш код"
   ]
  },
  {
   "cell_type": "code",
   "execution_count": null,
   "id": "9be3944a-987c-4689-972f-b19d40bb2b27",
   "metadata": {},
   "outputs": [],
   "source": []
  }
 ],
 "metadata": {
  "kernelspec": {
   "display_name": "Python 3 (ipykernel)",
   "language": "python",
   "name": "python3"
  },
  "language_info": {
   "codemirror_mode": {
    "name": "ipython",
    "version": 3
   },
   "file_extension": ".py",
   "mimetype": "text/x-python",
   "name": "python",
   "nbconvert_exporter": "python",
   "pygments_lexer": "ipython3",
   "version": "3.11.8"
  }
 },
 "nbformat": 4,
 "nbformat_minor": 5
}
