{
 "cells": [
  {
   "cell_type": "markdown",
   "id": "0dda9cca-9c5a-4edf-9fd2-87b317f3576e",
   "metadata": {},
   "source": [
    "# Лабораторная работа 3\n",
    "## Строки и операции с ними."
   ]
  },
  {
   "cell_type": "markdown",
   "id": "ec568831-b831-47a1-bc19-675943918eab",
   "metadata": {},
   "source": [
    "### Задание 1\n",
    "- Задайте список имён файлов:\n",
    "```Python\n",
    "t1_l = ['iris.png', 'azalea.txt', 'iris.csv', 'dahlia.csv', 'bryony.csv', 'bryony.png', 'dahlia.jpeg', 'azalea.png', 'iris.rtf']\n",
    "```\n",
    "- Воспользовавшись методами `str` создайте список `t1_csv` содержащий только `.csv` файлы\n",
    "- Воспользовавшись методами `str` создайте список `t1_iris` содержащий только файлы с названием `iris` (всех расширений)\n",
    "- Выведите результаты на печать"
   ]
  },
  {
   "cell_type": "code",
   "execution_count": null,
   "id": "d1216de7-50c9-453a-9158-8af52790c22f",
   "metadata": {},
   "outputs": [],
   "source": [
    "# Здесь будет ваш код"
   ]
  },
  {
   "cell_type": "markdown",
   "id": "04b84c07-efe4-40ec-868b-225c6d24a991",
   "metadata": {},
   "source": [
    "### Задание 2\n",
    "- Задайте строку\n",
    "```Python\n",
    "t2_str = \"\"\"Lorem ipsum dolor sit amet, consectetur adipiscing elit, sed do eiusmod tempor incididunt ut labore et dolore magna aliqua. Ut enim ad minim veniam, quis nostrud exercitation ullamco laboris nisi ut aliquip ex ea commodo consequat. Duis aute irure dolor in reprehenderit in voluptate velit esse cillum dolore eu fugiat nulla pariatur. Excepteur sint occaecat cupidatat non proident, sunt in culpa qui officia deserunt mollit anim id est laborum.\"\"\"\n",
    "```\n",
    "- Создайте список `t2_sentences` и запишите в него строку `t2_str` разбитую на предложения. Предложение начинается с заглавной буквы и заканчивается точкой (не должно быть пробелов перед началом и после конца предложения)"
   ]
  },
  {
   "cell_type": "code",
   "execution_count": null,
   "id": "f4869a56-b42a-4bc7-afcd-25b39686de3f",
   "metadata": {},
   "outputs": [
    {
     "data": {
      "text/plain": [
       "['Lorem ipsum dolor sit amet, consectetur adipiscing elit, sed do eiusmod tempor incididunt ut labore et dolore magna aliqua.',\n",
       " 'Ut enim ad minim veniam, quis nostrud exercitation ullamco laboris nisi ut aliquip ex ea commodo consequat.',\n",
       " 'Duis aute irure dolor in reprehenderit in voluptate velit esse cillum dolore eu fugiat nulla pariatur.',\n",
       " 'Excepteur sint occaecat cupidatat non proident, sunt in culpa qui officia deserunt mollit anim id est laborum.']"
      ]
     },
     "execution_count": null,
     "metadata": {},
     "output_type": "execute_result"
    }
   ],
   "source": [
    "# Здесь будет ваш код"
   ]
  },
  {
   "cell_type": "markdown",
   "id": "907ffe35-d450-4eae-a8f7-e74bf3ebcdf7",
   "metadata": {},
   "source": [
    "### Задание 3\n",
    "- Задайте словарь с записью результатов экзамена\n",
    "```Python\n",
    "t3_d = {'Ann': 10, 'Bob': 4, 'Clark': 8, 'Dan': 2, 'Ellen': 5}\n",
    "```\n",
    "- Запишите результаты экзамена в виде строки `t3_s` следующего вида:\n",
    "```Python\n",
    "\"\"\"\n",
    "Имя: оценка\n",
    "Имя: оценка\n",
    "...\n",
    "\"\"\"\n",
    "```\n",
    "Обратите внимание: после двоеточия стоит пробел, оценка должна быть выведена как целое число, каждое имя на своей строке. Последовательность имён любая. В конце строки не должно быть `\\n`, пустых строк не должно быть."
   ]
  },
  {
   "cell_type": "code",
   "execution_count": null,
   "id": "c504316f-3ef3-4382-88f5-96af44622d70",
   "metadata": {},
   "outputs": [],
   "source": [
    "# Здесь будет ваш код"
   ]
  },
  {
   "cell_type": "markdown",
   "id": "45960fa8-0dbb-4150-b10a-ed1ef3f6a55a",
   "metadata": {},
   "source": [
    "### Задание 4\n",
    "- Задайте список чисел\n",
    "```Python\n",
    "t4_l = [0, 100, 1e-4, 30, 90, 70, 21, 321]\n",
    "```\n",
    "- Преобразуйте его в список `t4_ls` так, чтобы каждое число стало строкой и так чтобы все эти строки были одной длины, сохранив при этом очередность. "
   ]
  },
  {
   "cell_type": "code",
   "execution_count": null,
   "id": "c65084a1-3124-4b70-8340-4e91778c7212",
   "metadata": {},
   "outputs": [],
   "source": [
    "# Здесь будет ваш код"
   ]
  },
  {
   "cell_type": "markdown",
   "id": "56fe85ae-ee3f-4d35-93d5-5ede79b9e887",
   "metadata": {},
   "source": [
    "### Задание 5\n",
    "- Задайте строку\n",
    "```Python\n",
    "t5_str = 'How much wood could a woodchuck chuck if a woodchuck could chuck wood? A woodchuck could chuck as much wood as a woodchuck would chuck if a woodchuck could chuck wood.'\n",
    "```\n",
    "- Подсчитайте количество символов `c` в строке, присвойте результат переменной `numc`, выведите результат на экран.\n",
    "- Замените все символы `c` в строке `t5_str` на символ `s`. Результат присвойте строке `t5_strs`, выведите на экран.\n",
    "- С помощью функций работы со строками сосчитайте сколько раз в этой строке встречается слово `\"chuck\"` (отдельно, не в качестве части составного слова)."
   ]
  },
  {
   "cell_type": "code",
   "execution_count": null,
   "id": "9f1d60bc-e6c2-4f6a-9c59-c7a128461e8d",
   "metadata": {},
   "outputs": [],
   "source": [
    "# Здесь будет ваш код"
   ]
  },
  {
   "cell_type": "markdown",
   "id": "a0824732-0487-446a-8f95-b6ff1ec35f30",
   "metadata": {},
   "source": [
    "### Задание 6\n",
    "- Дан фрагмент лестницы\n",
    "```Python\n",
    "t6_stair = '''\n",
    "|____|\n",
    "|    |\n",
    "'''\n",
    "\n",
    "```\n",
    "- Взаимодейстуя с исходным фрагментом, увеличьте длину лестницы в 5 раз, поставьте через 3 пробела от нее такую же, результат запишите в строку `t6_stairs` и выведите на экран.\n",
    "- Ожидаемый результат:\n",
    "```Python\n",
    "|____|   |____|\n",
    "|    |   |    |\n",
    "|____|   |____|\n",
    "|    |   |    |\n",
    "|____|   |____|\n",
    "|    |   |    |\n",
    "|____|   |____|\n",
    "|    |   |    |\n",
    "|____|   |____|\n",
    "|    |   |    |\n",
    "```"
   ]
  },
  {
   "cell_type": "code",
   "execution_count": null,
   "id": "b7876c66-a06b-4082-94e9-617d6dd350f3",
   "metadata": {},
   "outputs": [],
   "source": [
    "# Здесь будет ваш код"
   ]
  },
  {
   "cell_type": "markdown",
   "id": "2fa6ea67-3691-40e6-bf64-206bc0304f9c",
   "metadata": {},
   "source": [
    "### Задание 7\n",
    "- Дан фрагмент текста\n",
    "```Python\n",
    "t7_par = 'После долгого (и немного утомительного) путешествия они наконец-то добрались до загадочного (и чрезвычайно привлекательного) замка. Воздух был наполнен запахом цветов (и чего-то еще, что нельзя было определить). Они вошли в замок через массивные двери (которые скрипели и стучали, как будто живые), и перед ними открылся великолепный вид (на прекрасный сад с фонтаном и птицами, которые щебетали весело).'\n",
    "\n",
    "```\n",
    "- Удалите из текста содержимое круглых скобок и сами круглые скобки. Результат запишите в список `t7_wpar` и выведите на экран."
   ]
  },
  {
   "cell_type": "code",
   "execution_count": null,
   "id": "d47adc12-56bb-4cff-8881-1b5cca17c0ce",
   "metadata": {},
   "outputs": [],
   "source": [
    "# Здесь будет ваш код"
   ]
  },
  {
   "cell_type": "markdown",
   "id": "7e7e8581-ae67-4c1a-94da-e65a2ca88edf",
   "metadata": {},
   "source": [
    "### Задание 8\n",
    "- Дан список слов\n",
    "```Python\n",
    "t8_str = 'rotator, car, materials, refer, sos, python, esse, eye, abrakadabra content, tenet, poop, hole'\n",
    "\n",
    "```\n",
    "- Найдите слова-палиндромы и внесите их в список `t8_pstr`, результат выведите на экран."
   ]
  },
  {
   "cell_type": "code",
   "execution_count": null,
   "id": "20d9f5a1-6342-4226-926c-d195697f2b37",
   "metadata": {},
   "outputs": [],
   "source": [
    "# Здесь будет ваш код"
   ]
  },
  {
   "cell_type": "markdown",
   "id": "772a8311-d0ff-4d6b-aa77-9543df6f6309",
   "metadata": {},
   "source": [
    "### Задание 9\n",
    "- Дано текст\n",
    "```Python\n",
    "t9_str = 'I love pies!!!) Orange, strawberry, cream - I love any!) Don't feed me bread - feed me pie!)) You're my pie.'\n",
    "\n",
    "```\n",
    "- Преобразуйте текст так, чтобы в каждом слове чередовалась заглавная и строчная буквы. Пробелы и знаки препинания не учитываются и не должны нарушать очередность. Результат внесите в список `t9_StR` и выведите на экран.\n",
    "- Подсказка: функция `isalpha()`"
   ]
  },
  {
   "cell_type": "code",
   "execution_count": null,
   "id": "89dc23a8-3101-4ab7-aee2-954692d587a5",
   "metadata": {},
   "outputs": [],
   "source": [
    "# Здесь будет ваш код"
   ]
  }
 ],
 "metadata": {
  "kernelspec": {
   "display_name": "Python 3 (ipykernel)",
   "language": "python",
   "name": "python3"
  },
  "language_info": {
   "codemirror_mode": {
    "name": "ipython",
    "version": 3
   },
   "file_extension": ".py",
   "mimetype": "text/x-python",
   "name": "python",
   "nbconvert_exporter": "python",
   "pygments_lexer": "ipython3",
   "version": "3.11.9"
  }
 },
 "nbformat": 4,
 "nbformat_minor": 5
}
