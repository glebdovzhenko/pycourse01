{
 "cells": [
  {
   "cell_type": "markdown",
   "id": "0dda9cca-9c5a-4edf-9fd2-87b317f3576e",
   "metadata": {},
   "source": [
    "# Лабораторная работа 3\n",
    "## Строки и операции с ними."
   ]
  },
  {
   "cell_type": "markdown",
   "id": "fc96ff10-8372-4910-b5c4-795ef178c0f2",
   "metadata": {},
   "source": [
    "#### Результаты этой лабораторной работы будут проверяться автоматически. Пожалуйста, выполняйте задания в точности так как указано, создавайте переменные с указанными в задании именами."
   ]
  },
  {
   "cell_type": "markdown",
   "id": "ec568831-b831-47a1-bc19-675943918eab",
   "metadata": {},
   "source": [
    "### Задание 1\n",
    "- Задайте список имён файлов:\n",
    "```Python\n",
    "t1_l = ['iris.png', 'azalea.txt', 'iris.csv', 'dahlia.csv', 'bryony.csv', 'bryony.png', 'dahlia.jpeg', 'azalea.png', 'iris.rtf']\n",
    "```\n",
    "- Воспользовавшись методами `str` создайте список `t1_csv` содержащий только `.csv` файлы\n",
    "- Воспользовавшись методами `str` создайте список `t1_iris` содержащий только файлы с названием `iris` (всех расширений)"
   ]
  },
  {
   "cell_type": "code",
   "execution_count": null,
   "id": "d1216de7-50c9-453a-9158-8af52790c22f",
   "metadata": {},
   "outputs": [],
   "source": [
    "# Здесь будет ваш код"
   ]
  },
  {
   "cell_type": "markdown",
   "id": "04b84c07-efe4-40ec-868b-225c6d24a991",
   "metadata": {},
   "source": [
    "### Задание 2\n",
    "- Задайте строку\n",
    "```Python\n",
    "t2_str = \"\"\"Lorem ipsum dolor sit amet, consectetur adipiscing elit, sed do eiusmod tempor incididunt ut labore et dolore magna aliqua. Ut enim ad minim veniam, quis nostrud exercitation ullamco laboris nisi ut aliquip ex ea commodo consequat. Duis aute irure dolor in reprehenderit in voluptate velit esse cillum dolore eu fugiat nulla pariatur. Excepteur sint occaecat cupidatat non proident, sunt in culpa qui officia deserunt mollit anim id est laborum.\"\"\"\n",
    "```\n",
    "- Создайте список `t2_sentences` и запишите в него строку `t2_str` разбитую на предложения. Предложение начинается с заглавной буквы и заканчивается точкой (не должно быть пробелов перед началом и после конца предложения)"
   ]
  },
  {
   "cell_type": "code",
   "execution_count": null,
   "id": "f4869a56-b42a-4bc7-afcd-25b39686de3f",
   "metadata": {},
   "outputs": [
    {
     "data": {
      "text/plain": [
       "['Lorem ipsum dolor sit amet, consectetur adipiscing elit, sed do eiusmod tempor incididunt ut labore et dolore magna aliqua.',\n",
       " 'Ut enim ad minim veniam, quis nostrud exercitation ullamco laboris nisi ut aliquip ex ea commodo consequat.',\n",
       " 'Duis aute irure dolor in reprehenderit in voluptate velit esse cillum dolore eu fugiat nulla pariatur.',\n",
       " 'Excepteur sint occaecat cupidatat non proident, sunt in culpa qui officia deserunt mollit anim id est laborum.']"
      ]
     },
     "execution_count": null,
     "metadata": {},
     "output_type": "execute_result"
    }
   ],
   "source": [
    "# Здесь будет ваш код"
   ]
  },
  {
   "cell_type": "markdown",
   "id": "907ffe35-d450-4eae-a8f7-e74bf3ebcdf7",
   "metadata": {},
   "source": [
    "### Задание 3\n",
    "- Задайте словарь с записью результатов экзамена\n",
    "```Python\n",
    "t3_d = {'Ann': 10, 'Bob': 4, 'Clark': 8, 'Dan': 2, 'Ellen': 5}\n",
    "```\n",
    "- Запишите результаты экзамена в виде строки `t3_s` следующего вида:\n",
    "```Python\n",
    "\"\"\"\n",
    "Имя: оценка\n",
    "Имя: оценка\n",
    "...\n",
    "\"\"\"\n",
    "```\n",
    "Обратите внимание: после двоеточия стоит пробел, оценка должна быть выведена как целое число, каждое имя на своей строке. Последовательность имён любая. В конце строки не должно быть `\\n`, пустых строк не должно быть."
   ]
  },
  {
   "cell_type": "code",
   "execution_count": null,
   "id": "c504316f-3ef3-4382-88f5-96af44622d70",
   "metadata": {},
   "outputs": [],
   "source": [
    "# Здесь будет ваш код"
   ]
  },
  {
   "cell_type": "markdown",
   "id": "45960fa8-0dbb-4150-b10a-ed1ef3f6a55a",
   "metadata": {},
   "source": [
    "### Задание 4\n",
    "- Задайте список чисел\n",
    "```Python\n",
    "t4_l = [0, 100, 1e-4, 30, 90, 70, 21, 321]\n",
    "```\n",
    "- Преобразуйте его в список `t4_ls` так, чтобы каждое число стало строкой и так чтобы все эти строки были одной длины, сохранив при этом очередность. "
   ]
  },
  {
   "cell_type": "code",
   "execution_count": null,
   "id": "75547baf-10a9-40da-b9d9-486a68466931",
   "metadata": {},
   "outputs": [],
   "source": []
  },
  {
   "cell_type": "code",
   "execution_count": null,
   "id": "e16591cd-de73-471c-a637-74a22796739e",
   "metadata": {},
   "outputs": [],
   "source": []
  }
 ],
 "metadata": {
  "kernelspec": {
   "display_name": "python3",
   "language": "python",
   "name": "python3"
  }
 },
 "nbformat": 4,
 "nbformat_minor": 5
}
