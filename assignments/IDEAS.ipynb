{
 "cells": [
  {
   "cell_type": "markdown",
   "id": "e86660ba-04f0-4370-acfd-ab696482b749",
   "metadata": {},
   "source": [
    "# Разные идеи"
   ]
  },
  {
   "cell_type": "markdown",
   "id": "805cf111-07c4-472a-806b-ff314cf48ee4",
   "metadata": {},
   "source": [
    "### Задание\n",
    "\n",
    "Считать из текстового файла массив данных. Переформировать его в (100, 100, 4), вывести в виде `imshow` все 4 картинки"
   ]
  },
  {
   "cell_type": "markdown",
   "id": "4096c335-b9c5-4b49-8ef7-e0d5f8811627",
   "metadata": {},
   "source": [
    "### Задание\n",
    "\n",
    "Считать из текстового файла изображение, построить `imshow`. Провести на графике линию по локальным максимумам."
   ]
  },
  {
   "cell_type": "markdown",
   "id": "19a71357-3d91-4039-90c1-6ae31cc98e4b",
   "metadata": {},
   "source": [
    "### Задание бывшее 7.3\n",
    "* Прочитайте файл `'datasets/multigauss.txt'` (первый стоблец — координаты $x$, второй — $y$). Постройте данные из файла на графике. Эти данные представляют собой набор Гауссовых функций центры которых примерно равноудалены друг от друга с $\\Delta x = 2.5$.\n",
    "* Ваша задача — построить огибающую параболу этих Гауссовых пиков. Результат должен выглядеть примерно так:\n",
    "<div>\n",
    "<img src=\"img/fig.png\" width=\"500\"/>\n",
    "</div>\n",
    "\n",
    "#### Подсказки:\n",
    "* Можно разбить данные на равные отрезки по $x$ длиной $\\Delta x = 2.5$, каждый отрезок аппроксимировать Гауссовой функцией\n",
    "$$\n",
    "y(x |x_0, \\sigma, a) = a \\cdot \\exp \\left\\{ -0.5 \\cdot \\left(\\frac{x-x_0}{\\sigma} \\right)^2 \\right\\}\n",
    "$$\n",
    "* Взяв центры $x_0$ и амплитуды $a$ этих аппроксимаций за новый набор точек $x$ и $y$, аппроксимировать их параболой\n",
    "$$\n",
    "y(x| a, b, c) = a \\cdot x^2 + b \\cdot x + c\n",
    "$$\n",
    "* Построить эту параболу\n",
    "\n",
    "\n"
   ]
  },
  {
   "cell_type": "code",
   "execution_count": null,
   "id": "866b894a-f7c8-47eb-8042-3719f929fcd4",
   "metadata": {},
   "outputs": [],
   "source": [
    "# Здесь будет ваш код"
   ]
  }
 ],
 "metadata": {
  "kernelspec": {
   "display_name": "Python 3 (ipykernel)",
   "language": "python",
   "name": "python3"
  },
  "language_info": {
   "codemirror_mode": {
    "name": "ipython",
    "version": 3
   },
   "file_extension": ".py",
   "mimetype": "text/x-python",
   "name": "python",
   "nbconvert_exporter": "python",
   "pygments_lexer": "ipython3",
   "version": "3.11.9"
  }
 },
 "nbformat": 4,
 "nbformat_minor": 5
}
