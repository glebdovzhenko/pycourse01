{
 "cells": [
  {
   "cell_type": "markdown",
   "id": "9715539d-eb9d-4e38-90c3-b88c78d22771",
   "metadata": {},
   "source": [
    "# Лабораторная работа 2\n",
    "## Контейнеры\n",
    "### Задачи со звёздочкой"
   ]
  },
  {
   "cell_type": "markdown",
   "id": "0102a875-0d64-422c-b651-dabd72b4a4df",
   "metadata": {},
   "source": [
    "### Задание 1*\n",
    "Напишите программу которая выводила бы на экран поле 10 на 10 и летящий по нему мяч, отражающийся от стен\n",
    "\n",
    "![SegmentLocal](ball.gif \"segment\")\n",
    "\n",
    "#### Подсказки\n",
    "- Очистка вывода ячейки\n",
    "  ```Python\n",
    "  from IPython.display import clear_output\n",
    "  clear_output(wait=True)\n",
    "  ```\n",
    "- Ожидание между отрисовками\n",
    "  ```Python\n",
    "  from time import sleep\n",
    "  sleep(1)\n",
    "  ```\n",
    "- Текущее состояние поля можно хранить в 2-мерном списке (списке списков символов), координаты и скорость мяча в виде 2-вектора (списка), напр. `[0, 1]`"
   ]
  },
  {
   "cell_type": "code",
   "execution_count": 1,
   "id": "004c9d10-445b-4df5-947c-725ca1229213",
   "metadata": {},
   "outputs": [
    {
     "name": "stdout",
     "output_type": "stream",
     "text": [
      ". . . . . . . . . .\n",
      ". . . . . . . . . .\n",
      ". . . . . . . . . .\n",
      ". . . . . . . . . .\n",
      ". . . . . . . . . .\n",
      ". . . . . . . . . .\n",
      ". . . . . . . . . o\n",
      ". . . . . . . . . .\n",
      ". . . . . . . . . .\n",
      ". . . . . . . . . .\n"
     ]
    },
    {
     "ename": "KeyboardInterrupt",
     "evalue": "",
     "output_type": "error",
     "traceback": [
      "\u001b[0;31m---------------------------------------------------------------------------\u001b[0m",
      "\u001b[0;31mKeyboardInterrupt\u001b[0m                         Traceback (most recent call last)",
      "Cell \u001b[0;32mIn[1], line 12\u001b[0m\n\u001b[1;32m      9\u001b[0m field \u001b[38;5;241m=\u001b[39m [[empty_char \u001b[38;5;28;01mfor\u001b[39;00m _ \u001b[38;5;129;01min\u001b[39;00m \u001b[38;5;28mrange\u001b[39m(field_size)] \u001b[38;5;28;01mfor\u001b[39;00m _ \u001b[38;5;129;01min\u001b[39;00m \u001b[38;5;28mrange\u001b[39m(field_size)]\n\u001b[1;32m     11\u001b[0m \u001b[38;5;28;01mwhile\u001b[39;00m \u001b[38;5;28;01mTrue\u001b[39;00m:\n\u001b[0;32m---> 12\u001b[0m     sleep(\u001b[38;5;241m1\u001b[39m)\n\u001b[1;32m     13\u001b[0m     clear_output(wait\u001b[38;5;241m=\u001b[39m\u001b[38;5;28;01mTrue\u001b[39;00m)\n\u001b[1;32m     14\u001b[0m     field[ball_pos[\u001b[38;5;241m0\u001b[39m]][ball_pos[\u001b[38;5;241m1\u001b[39m]] \u001b[38;5;241m=\u001b[39m empty_char\n",
      "\u001b[0;31mKeyboardInterrupt\u001b[0m: "
     ]
    }
   ],
   "source": [
    "from IPython.display import clear_output\n",
    "from time import sleep\n",
    "\n",
    "field_size = 10\n",
    "empty_char = '.'\n",
    "ball_char = 'o'\n",
    "ball_velocity = [1, 1]\n",
    "ball_pos = [0, 3]\n",
    "field = [[empty_char for _ in range(field_size)] for _ in range(field_size)]\n",
    "\n",
    "while True:\n",
    "    sleep(1)\n",
    "    clear_output(wait=True)\n",
    "    field[ball_pos[0]][ball_pos[1]] = empty_char\n",
    "\n",
    "    ball_pos[0] += ball_velocity[0]\n",
    "    ball_pos[1] += ball_velocity[1]\n",
    "\n",
    "    for ii in [0, 1]:\n",
    "        if ball_pos[ii] == field_size:\n",
    "            ball_pos[ii] -= 2\n",
    "            ball_velocity[ii] *= -1\n",
    "        elif ball_pos[ii] == -1:\n",
    "            ball_pos[ii] += 2\n",
    "            ball_velocity[ii] *= -1\n",
    "    \n",
    "    field[ball_pos[0]][ball_pos[1]] = ball_char\n",
    "\n",
    "    print('\\n'.join(map(lambda x: ' '.join(x), field)))"
   ]
  },
  {
   "cell_type": "markdown",
   "id": "6839c30b-5b80-4b1f-8afd-9f427d3caea6",
   "metadata": {},
   "source": [
    "### Задание 2*\n",
    "Реализуйте John Conway's Game of Life.\n",
    "\n",
    "![SegmentLocal](life.gif \"segment\")\n",
    "\n",
    "- Есть поле 10 на 10 с периодическими граничными условиями\n",
    "- Каждая клетка поля может быть живой (заполненной) или мёртвой (пустой). У каждой клетки есть 8 соседей (по сторонам и диагоналям).\n",
    "- Распределение живых клеток в начале игры называется первым поколением. Каждое следующее поколение рассчитывается на основе предыдущего по таким правилам:\n",
    "  - в пустой (мёртвой) клетке, с которой соседствуют три живые клетки, зарождается жизнь;\n",
    "  - если у живой клетки есть две или три живые соседки, то эта клетка продолжает жить;\n",
    "  - если живых соседей меньше двух или больше трёх, клетка умирает («от одиночества» или «от перенаселённости»).\n",
    "- Игрок не принимает активного участия в игре. Он лишь расставляет или генерирует начальную конфигурацию «живых» клеток, которые затем изменяются согласно правилам."
   ]
  },
  {
   "cell_type": "code",
   "execution_count": 2,
   "id": "48f1caae-76b9-4ba5-b0e4-088e34a14867",
   "metadata": {},
   "outputs": [
    {
     "name": "stdout",
     "output_type": "stream",
     "text": [
      ". . . . . . . . . .\n",
      ". . . . . . . . . .\n",
      ". . . . . . . . . .\n",
      ". . . . . . . . . .\n",
      ". . . . . . . . . .\n",
      ". . . . . . . x . .\n",
      ". . . . . . . . x .\n",
      ". . . . . . x x x .\n",
      ". . . . . . . . . .\n",
      ". . . . . . . . . .\n"
     ]
    },
    {
     "ename": "KeyboardInterrupt",
     "evalue": "",
     "output_type": "error",
     "traceback": [
      "\u001b[0;31m---------------------------------------------------------------------------\u001b[0m",
      "\u001b[0;31mKeyboardInterrupt\u001b[0m                         Traceback (most recent call last)",
      "Cell \u001b[0;32mIn[2], line 25\u001b[0m\n\u001b[1;32m     22\u001b[0m field_ \u001b[38;5;241m=\u001b[39m [[empty_char \u001b[38;5;28;01mfor\u001b[39;00m _ \u001b[38;5;129;01min\u001b[39;00m \u001b[38;5;28mrange\u001b[39m(field_size)] \u001b[38;5;28;01mfor\u001b[39;00m _ \u001b[38;5;129;01min\u001b[39;00m \u001b[38;5;28mrange\u001b[39m(field_size)]\n\u001b[1;32m     24\u001b[0m \u001b[38;5;28;01mwhile\u001b[39;00m \u001b[38;5;28;01mTrue\u001b[39;00m:\n\u001b[0;32m---> 25\u001b[0m     sleep(\u001b[38;5;241m1\u001b[39m)\n\u001b[1;32m     26\u001b[0m     clear_output(wait\u001b[38;5;241m=\u001b[39m\u001b[38;5;28;01mTrue\u001b[39;00m)\n\u001b[1;32m     28\u001b[0m     \u001b[38;5;28;01mfor\u001b[39;00m ii \u001b[38;5;129;01min\u001b[39;00m \u001b[38;5;28mrange\u001b[39m(field_size):\n",
      "\u001b[0;31mKeyboardInterrupt\u001b[0m: "
     ]
    }
   ],
   "source": [
    "from IPython.display import clear_output\n",
    "from time import sleep\n",
    "\n",
    "field_size = 10\n",
    "empty_char = '.'\n",
    "filled_char = 'x'\n",
    "\n",
    "field = \"\"\"\n",
    ". . . . . . . . . .\n",
    ". . . . . . . . . .\n",
    ". . . . . . . . . .\n",
    ". . . . . x . . . .\n",
    ". . . . . . x . . .\n",
    ". . . . x x x . . .\n",
    ". . . . . . . . . .\n",
    ". . . . . . . . . .\n",
    ". . . . . . . . . .\n",
    ". . . . . . . . . .\n",
    "\"\"\"\n",
    "field = field.replace('\\n', '').replace(' ', '')\n",
    "field = [list(field[ii*field_size:(1+ii)*field_size]) for ii in range(len(field[::field_size]))]\n",
    "field_ = [[empty_char for _ in range(field_size)] for _ in range(field_size)]\n",
    "\n",
    "while True:\n",
    "    sleep(1)\n",
    "    clear_output(wait=True)\n",
    "\n",
    "    for ii in range(field_size):\n",
    "        for jj in range(field_size):\n",
    "            nb = (field[ii + 1 - field_size][jj - 1] == filled_char) + \\\n",
    "                 (field[ii + 1 - field_size][jj + 0] == filled_char) + \\\n",
    "                 (field[ii + 1 - field_size][jj + 1 - field_size] == filled_char) + \\\n",
    "                 (field[ii + 0][jj - 1] == filled_char) + \\\n",
    "                 (field[ii + 0][jj + 1 - field_size] == filled_char) + \\\n",
    "                 (field[ii - 1][jj - 1] == filled_char) + \\\n",
    "                 (field[ii - 1][jj + 0] == filled_char) + \\\n",
    "                 (field[ii - 1][jj + 1 - field_size] == filled_char)\n",
    "            if (nb > 3) or (nb < 2):\n",
    "                field_[ii][jj] = empty_char\n",
    "            elif nb == 3:\n",
    "                field_[ii][jj] = filled_char\n",
    "            elif nb == 2:\n",
    "                field_[ii][jj] = field[ii][jj]\n",
    "    \n",
    "    field, field_ = field_, field\n",
    "    print('\\n'.join(map(lambda x: ' '.join(x), field)))"
   ]
  },
  {
   "cell_type": "code",
   "execution_count": null,
   "id": "0419a047-026b-4c02-b824-32bd487dfeba",
   "metadata": {},
   "outputs": [],
   "source": []
  }
 ],
 "metadata": {
  "kernelspec": {
   "display_name": "Python 3 (ipykernel)",
   "language": "python",
   "name": "python3"
  },
  "language_info": {
   "codemirror_mode": {
    "name": "ipython",
    "version": 3
   },
   "file_extension": ".py",
   "mimetype": "text/x-python",
   "name": "python",
   "nbconvert_exporter": "python",
   "pygments_lexer": "ipython3",
   "version": "3.11.7"
  }
 },
 "nbformat": 4,
 "nbformat_minor": 5
}
