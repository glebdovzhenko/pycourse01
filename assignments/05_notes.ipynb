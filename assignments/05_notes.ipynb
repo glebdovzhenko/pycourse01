{
 "cells": [
  {
   "cell_type": "markdown",
   "id": "3bdc6910-4e80-4811-81f1-e2a36b9954b5",
   "metadata": {},
   "source": [
    "# Занятие 5:\n",
    "## Ещё раз про классы."
   ]
  },
  {
   "cell_type": "code",
   "execution_count": null,
   "id": "4df20d8c-b813-4c4c-bcde-8a2945ae3e9a",
   "metadata": {},
   "outputs": [],
   "source": []
  }
 ],
 "metadata": {
  "kernelspec": {
   "display_name": "python3",
   "language": "python",
   "name": "python3"
  }
 },
 "nbformat": 4,
 "nbformat_minor": 5
}
