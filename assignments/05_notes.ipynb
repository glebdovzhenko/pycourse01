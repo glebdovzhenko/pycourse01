{
 "cells": [
  {
   "cell_type": "markdown",
   "id": "3bdc6910-4e80-4811-81f1-e2a36b9954b5",
   "metadata": {},
   "source": [
    "# Занятие 5:\n",
    "## Анализ данных: основы"
   ]
  },
  {
   "cell_type": "markdown",
   "id": "817266bb-4057-4604-8b08-2cd45578420d",
   "metadata": {},
   "source": [
    "### Ключевые библиотеки\n",
    "\n",
    "Основные библиотеки Python для анализа данных это `numpy`, `scipy`, `pandas`, `matplotlib`. \n",
    "Все они составляют единую экосистему, с простым взаимодействием объектов и функций из разных библиотек между собой."
   ]
  },
  {
   "cell_type": "markdown",
   "id": "ced20da4-8d2e-42f8-8565-5d167d04b122",
   "metadata": {},
   "source": [
    "#### `numpy`\n",
    "Костяком этой библиотеки является класс `numpy.ndarray` представляющий собой массив произвольной размерности и формы. \n",
    "Массивы `numpy` оптимизированы для векторных, т.е. массово-параллельных операций: простых действий выполняемых независимо над каждым элементом массива.\n",
    "Покажем это на примере поэлементного сложения:"
   ]
  },
  {
   "cell_type": "code",
   "execution_count": 1,
   "id": "efb2dc7f-df6b-418f-b1e2-a414e6874bae",
   "metadata": {},
   "outputs": [
    {
     "name": "stdout",
     "output_type": "stream",
     "text": [
      "22.5 µs ± 307 ns per loop (mean ± std. dev. of 7 runs, 10,000 loops each)\n",
      "403 ns ± 0.59 ns per loop (mean ± std. dev. of 7 runs, 1,000,000 loops each)\n"
     ]
    }
   ],
   "source": [
    "import numpy as np  # подключаем библиотеку numpy, в дальнейшем обращение к ней будет np\n",
    "# создаём два обычных списка Python из тысячи случайных целых элементов. \n",
    "# функция np.random.randint(100) возвращает случайное целое число в диапазоне (0, 100)\n",
    "l1 = [np.random.randint(100) for _ in range(1000)]\n",
    "l2 = [np.random.randint(100) for _ in range(1000)]\n",
    "lsum = [0] * len(l1) # cоздаём массив где будет храниться сумма\n",
    "%timeit for i in range(len(lsum)): lsum[i] = l1[i] + l2[i]  # замеряем сколько времени занимает операция поэлементного сложения\n",
    "# создаём массивы numpy a1, a2 из списков l1, l2 \n",
    "a1 = np.array(l1)\n",
    "a2 = np.array(l2)\n",
    "# ВНИМАНИЕ! сложение списков из стандартной библиотеки l1 + l2 дало бы их конкатенацию, т.е. объединение в один список с общими элементами\n",
    "# для numpy-массивов сложение, умножение, и пр. арифметико-логические операции выполняются поэлементно, \n",
    "# т.е. в случае сложения — как сложение векторов в декартовых координатах\n",
    "%timeit asum = a1 + a2  # замеряем сколько времени занимает операция поэлементного сложения"
   ]
  },
  {
   "cell_type": "markdown",
   "id": "a1a8d421-0e37-4fb9-ae9b-4f2b15052be8",
   "metadata": {},
   "source": [
    "##### Создание `numpy`-массивов\n",
    "Наиболее используемые способы их задания следующие:\n",
    "- Из стандартных контейнеров Python (напр. `tuple`, `list`)\n",
    "- Массивы заданной формы со всеми одинаковыми элементами (напр. `np.zeros`, `np.ones`)\n",
    "- Диапазоны `np.arange`, `np.linspace`"
   ]
  },
  {
   "cell_type": "code",
   "execution_count": 2,
   "id": "dcf36f65-835f-4bf3-9e6f-a1eec5d41454",
   "metadata": {},
   "outputs": [
    {
     "name": "stdout",
     "output_type": "stream",
     "text": [
      "[1 2 3]\n",
      "[[1. 1. 1.]\n",
      " [1. 1. 1.]]\n"
     ]
    }
   ],
   "source": [
    "import numpy as np\n",
    "# создаём numpy-массив из списка:\n",
    "l1 = [1, 2, 3]\n",
    "a1 = np.array(l1)\n",
    "print(a1)\n",
    "# создаём numpy-массив из единиц заданной формы:\n",
    "a2 = np.ones((2, 3))  # создаёт матрицу 2 на 3 \n",
    "print(a2)"
   ]
  },
  {
   "cell_type": "code",
   "execution_count": 3,
   "id": "934bab3b-65d1-4a82-9125-61f0f99ffae7",
   "metadata": {},
   "outputs": [
    {
     "name": "stdout",
     "output_type": "stream",
     "text": [
      "[1 2 3 4]\n",
      "[1.         2.33333333 3.66666667 5.        ]\n"
     ]
    }
   ],
   "source": [
    "import numpy as np\n",
    "# функция numpy.arange подобна функции range из стандартной библиотеки. отличие только в том что она сразу генерирует numpy-массив.\n",
    "# в качестве аргументов передаются: начало диапазона, конец, шаг. Конец в последовательность не включён.\n",
    "a3 = np.arange(1, 5, 1)\n",
    "print(a3)\n",
    "# подобной является функция linspace. \n",
    "# в неё передаются начало диапазона, конец, количество элементов (расположенных равномерно между началом и концом)\n",
    "a4 = np.linspace(1, 5, 4)\n",
    "print(a4)"
   ]
  },
  {
   "cell_type": "markdown",
   "id": "8ba394ea-1cab-4876-aa80-30b912a37906",
   "metadata": {},
   "source": [
    "##### Вычисления с `numpy`-массивами\n",
    "Для работы с массивами в `numpy` определены универсальные функции (`ufunc`), воздействующие на массивы поэлементно. \n",
    "Например:"
   ]
  },
  {
   "cell_type": "code",
   "execution_count": 4,
   "id": "9c7829ff-1a62-4ac5-b5cd-ed96f1cf015c",
   "metadata": {},
   "outputs": [
    {
     "name": "stdout",
     "output_type": "stream",
     "text": [
      "a5 =  [-1.   -0.75 -0.5  -0.25  0.    0.25  0.5   0.75  1.  ]\n",
      "a5 + 1 =  [0.   0.25 0.5  0.75 1.   1.25 1.5  1.75 2.  ]\n",
      "a5 * 2 =  [-2.  -1.5 -1.  -0.5  0.   0.5  1.   1.5  2. ]\n"
     ]
    }
   ],
   "source": [
    "import numpy as np\n",
    "a5 = np.linspace(-1, 1, 9)\n",
    "# арифметические операции действуют поэлементно:\n",
    "print('a5 = ', a5)\n",
    "print('a5 + 1 = ', a5 + 1)\n",
    "print('a5 * 2 = ', a5 * 2)"
   ]
  },
  {
   "cell_type": "code",
   "execution_count": 5,
   "id": "54bb8a71-cd66-4218-a51a-d6b3ba2be41d",
   "metadata": {},
   "outputs": [
    {
     "name": "stdout",
     "output_type": "stream",
     "text": [
      "a5 =  [-1.   -0.75 -0.5  -0.25  0.    0.25  0.5   0.75  1.  ]\n",
      "a6 =  [0 1 2 3 4 5 6 7 8]\n",
      "a5 + a6 =  [-1.    0.25  1.5   2.75  4.    5.25  6.5   7.75  9.  ]\n",
      "a5 * a6 =  [-0.   -0.75 -1.   -0.75  0.    1.25  3.    5.25  8.  ]\n"
     ]
    }
   ],
   "source": [
    "# также поэлементно действуют операции с другими numpy-массивами\n",
    "# арифметические операции можно проводить только с массивами одной формы!\n",
    "import numpy as np\n",
    "a5 = np.linspace(-1, 1, 9)\n",
    "a6 = np.arange(0, 9, 1)\n",
    "print('a5 = ', a5)\n",
    "print('a6 = ', a6)\n",
    "print('a5 + a6 = ', a5 + a6)\n",
    "print('a5 * a6 = ', a5 * a6)"
   ]
  },
  {
   "cell_type": "code",
   "execution_count": 6,
   "id": "ecc35894-17d6-4e03-81a4-154f4a993b08",
   "metadata": {},
   "outputs": [
    {
     "name": "stdout",
     "output_type": "stream",
     "text": [
      "[[2. 2.]\n",
      " [2. 2.]]\n",
      "[[-1. -1.]\n",
      " [-1. -1.]]\n"
     ]
    }
   ],
   "source": [
    "# импортированные из numpy математические функции действуют также поэлементно\n",
    "import numpy as np\n",
    "a7 = np.ones((2, 2))\n",
    "print(np.log10(a7 * 100.))\n",
    "print(np.cos(a7 * np.pi))"
   ]
  },
  {
   "cell_type": "markdown",
   "id": "ebc67f6f-0878-4de8-9bb2-1e8e983368a1",
   "metadata": {},
   "source": [
    "##### Индексация, срезы, сортировка `numpy`-массивов\n",
    "`numpy`-массивы поддерживают индексацию и срезы аналогично стандартным контейнерам Python: `list, tuple`.\n",
    "Однако помимо этого у них есть и дополнительные возможности делать выборки. Например, можно передавать списком или массивом набор интересующих нас индексов."
   ]
  },
  {
   "cell_type": "code",
   "execution_count": 7,
   "id": "da0a5af9-0e47-4496-aa2e-f72cc5d37852",
   "metadata": {},
   "outputs": [
    {
     "data": {
      "text/plain": [
       "array([13, 11,  9])"
      ]
     },
     "execution_count": 7,
     "metadata": {},
     "output_type": "execute_result"
    }
   ],
   "source": [
    "import numpy as np\n",
    "a8 = np.array([1, 3, 5, 7, 9, 11, 13, 15, 17, 19])  # \n",
    "ii = [6, 5, 4]  # список индексов элементов которые хотим выбрать\n",
    "a8[ii]  # выборка из массива элементов с теми индексами которые мы передали в той же последовательности в которой передали."
   ]
  },
  {
   "cell_type": "markdown",
   "id": "d36487f4-89c8-4e88-a2f8-3e8f3ff783f4",
   "metadata": {},
   "source": [
    "Возможность делать выборки по индексам очень удобна при сортировке ассоциированных массивов.\n",
    "Например, у нас есть два массива, элементы которых ассоциированы друг с другом. \n",
    "Это означает что если мы переставляем элементы в одном из них, мы должны то же самое сделать и в другом."
   ]
  },
  {
   "cell_type": "code",
   "execution_count": 8,
   "id": "99430f42-c47c-4d18-b471-24665c4fd66e",
   "metadata": {},
   "outputs": [
    {
     "name": "stdout",
     "output_type": "stream",
     "text": [
      "[15  9  5  3  1 13  7 11]\n",
      "['fifteen' 'nine' 'five' 'three' 'one' 'thirteen' 'seven' 'eleven']\n"
     ]
    }
   ],
   "source": [
    "import numpy as np\n",
    "a8 = np.array([15, 9, 5, 3, 1, 13, 7, 11])\n",
    "a8_2 = np.array(['fifteen', 'nine', 'five', 'three', 'one', 'thirteen', 'seven', 'eleven'])\n",
    "print(a8)\n",
    "print(a8_2)"
   ]
  },
  {
   "cell_type": "markdown",
   "id": "56ffe169-5859-40b5-94ac-ec722f58f092",
   "metadata": {},
   "source": [
    "Функция `np.argsort` принимает массив и возвращает его индексы в той последовательности в которой они шли бы в отсортированном массиве"
   ]
  },
  {
   "cell_type": "code",
   "execution_count": 9,
   "id": "2c544363-ff9f-438f-a9df-ee318a0861a1",
   "metadata": {},
   "outputs": [
    {
     "name": "stdout",
     "output_type": "stream",
     "text": [
      "Индексы для сортировки a8 [4 3 2 6 1 7 5 0]\n",
      "Отсортированный массив a8 [ 1  3  5  7  9 11 13 15]\n",
      "a8_2 с элементами переставленными так же как при сортировке a8 ['one' 'three' 'five' 'seven' 'nine' 'eleven' 'thirteen' 'fifteen']\n",
      "Если бы мы просто отсортировали a8_2, то получили бы совсем другое ['eleven' 'fifteen' 'five' 'nine' 'one' 'seven' 'thirteen' 'three']\n"
     ]
    }
   ],
   "source": [
    "ii = np.argsort(a8)\n",
    "print('Индексы для сортировки a8', ii)\n",
    "print('Отсортированный массив a8', a8[ii])\n",
    "print('a8_2 с элементами переставленными так же как при сортировке a8', a8_2[ii])\n",
    "print('Если бы мы просто отсортировали a8_2, то получили бы совсем другое', np.sort((a8_2)))"
   ]
  },
  {
   "cell_type": "markdown",
   "id": "f97b4576-8769-42e1-8cf7-a367bf8a904b",
   "metadata": {},
   "source": [
    "##### Соединение вдоль оси"
   ]
  },
  {
   "cell_type": "code",
   "execution_count": 10,
   "id": "2e9f0675-2c89-471d-81b5-3bfdfa6fe7b3",
   "metadata": {},
   "outputs": [
    {
     "name": "stdout",
     "output_type": "stream",
     "text": [
      "Concatenate:  ['15' '9' '5' '3' '1' '13' '7' '11' 'fifteen' 'nine' 'five' 'three' 'one'\n",
      " 'thirteen' 'seven' 'eleven']\n",
      "Stack:  [['15' '9' '5' '3' '1' '13' '7' '11']\n",
      " ['fifteen' 'nine' 'five' 'three' 'one' 'thirteen' 'seven' 'eleven']]\n"
     ]
    }
   ],
   "source": [
    "import numpy as np\n",
    "a8 = np.array([15, 9, 5, 3, 1, 13, 7, 11])\n",
    "a8_2 = np.array(['fifteen', 'nine', 'five', 'three', 'one', 'thirteen', 'seven', 'eleven'])\n",
    "# два массива можно объединить в один вдоль существующей оси:\n",
    "print('Concatenate: ', np.concatenate((a8, a8_2)))\n",
    "# либо, если они одной длины, то вдоль новой оси:\n",
    "print('Stack: ', np.stack((a8, a8_2)))\n",
    "# если делать stack на двумерных массивах результат будет трёхмерным и т.д."
   ]
  },
  {
   "cell_type": "markdown",
   "id": "1f5f0e5b-2485-4002-b122-ddbfe29229fb",
   "metadata": {},
   "source": [
    "##### транспонирование\n",
    "Транспонирование `numpy`-массивов эквивалентно соответствующей математической операции: строки и столбцы меняются местами."
   ]
  },
  {
   "cell_type": "code",
   "execution_count": 11,
   "id": "3ffa1e07-7d17-406f-92a0-cd3ce2a77eec",
   "metadata": {},
   "outputs": [
    {
     "name": "stdout",
     "output_type": "stream",
     "text": [
      "Оригинальный массив\n",
      " [['15' '9' '5' '3' '1' '13' '7' '11']\n",
      " ['fifteen' 'nine' 'five' 'three' 'one' 'thirteen' 'seven' 'eleven']]\n",
      "Транспонированный массив\n",
      " [['15' 'fifteen']\n",
      " ['9' 'nine']\n",
      " ['5' 'five']\n",
      " ['3' 'three']\n",
      " ['1' 'one']\n",
      " ['13' 'thirteen']\n",
      " ['7' 'seven']\n",
      " ['11' 'eleven']]\n"
     ]
    }
   ],
   "source": [
    "import numpy as np\n",
    "a8 = np.array([15, 9, 5, 3, 1, 13, 7, 11])\n",
    "a8_2 = np.array(['fifteen', 'nine', 'five', 'three', 'one', 'thirteen', 'seven', 'eleven'])\n",
    "a8_st = np.stack((a8, a8_2))\n",
    "print('Оригинальный массив\\n', a8_st)\n",
    "print('Транспонированный массив\\n', a8_st.T)"
   ]
  },
  {
   "cell_type": "markdown",
   "id": "0081a34e-c451-42b3-8718-04f8216b6dc6",
   "metadata": {},
   "source": [
    "##### Генератор случайных чисел\n",
    "Модуль `numpy.random` содержит разнообразные функции для работы с псевдослучайными числами."
   ]
  },
  {
   "cell_type": "code",
   "execution_count": 12,
   "id": "cb783376-6ef5-4ebb-996a-9c1834acf2ff",
   "metadata": {},
   "outputs": [
    {
     "name": "stdout",
     "output_type": "stream",
     "text": [
      "0.3518177395160754\n",
      "[0.49342541 0.04320242 0.96034237]\n"
     ]
    }
   ],
   "source": [
    "import numpy as np\n",
    "# функция rand без аргументов генерирует случайное число от 0 до 1\n",
    "print(np.random.rand())\n",
    "# можно передать в неё размер массива (только одномерного!), тогда сгенерирует массив случайных чисел с 0 до 1\n",
    "print(np.random.rand(3))"
   ]
  },
  {
   "cell_type": "code",
   "execution_count": 13,
   "id": "efebefdd-1414-4ffe-b739-62de5b6a8683",
   "metadata": {},
   "outputs": [
    {
     "name": "stdout",
     "output_type": "stream",
     "text": [
      "[0.36499935 0.72177919 0.12953925 0.66972266 0.78881916 0.11622006\n",
      " 0.65258123 0.29948871 0.69525605 0.7949683  0.48267782 0.26221991\n",
      " 0.56559747 0.80265086 0.10840034 0.31817124 0.25723006 0.88478042\n",
      " 0.43853235 0.25816351 0.71260277 0.99623028 0.46821473 0.44284931]\n",
      "[[0.36499935 0.72177919 0.12953925 0.66972266 0.78881916 0.11622006\n",
      "  0.65258123 0.29948871]\n",
      " [0.69525605 0.7949683  0.48267782 0.26221991 0.56559747 0.80265086\n",
      "  0.10840034 0.31817124]\n",
      " [0.25723006 0.88478042 0.43853235 0.25816351 0.71260277 0.99623028\n",
      "  0.46821473 0.44284931]]\n",
      "[[[[0.36499935 0.72177919]\n",
      "   [0.12953925 0.66972266]]\n",
      "\n",
      "  [[0.78881916 0.11622006]\n",
      "   [0.65258123 0.29948871]]]\n",
      "\n",
      "\n",
      " [[[0.69525605 0.7949683 ]\n",
      "   [0.48267782 0.26221991]]\n",
      "\n",
      "  [[0.56559747 0.80265086]\n",
      "   [0.10840034 0.31817124]]]\n",
      "\n",
      "\n",
      " [[[0.25723006 0.88478042]\n",
      "   [0.43853235 0.25816351]]\n",
      "\n",
      "  [[0.71260277 0.99623028]\n",
      "   [0.46821473 0.44284931]]]]\n"
     ]
    }
   ],
   "source": [
    "# чтобы сгенерировать многомерный массив, можно сначала сгенерировать одномерный правильного размера, \n",
    "# а затем воспользоваться функцией reshape\n",
    "a9 = np.random.rand(24)\n",
    "print(a9)\n",
    "print(a9.reshape(3, 8)) # 2-мерный массив, 24 = 8*3\n",
    "print(a9.reshape(3, 2, 2, 2)) # 4-мерный массив, 24 = 8*2*2*2"
   ]
  },
  {
   "cell_type": "code",
   "execution_count": 14,
   "id": "61d1c15d-a59f-4e87-b628-a3c7094061c6",
   "metadata": {},
   "outputs": [
    {
     "name": "stdout",
     "output_type": "stream",
     "text": [
      "[3.77572776 3.19295436 2.82950301 4.28661263 3.35839671 3.73135074\n",
      " 4.66733762 4.39984277 2.32319249 2.14405751]\n",
      "[[4.5759937  3.98190176]\n",
      " [3.57537425 2.67351233]]\n"
     ]
    }
   ],
   "source": [
    "# можно генерировать равномерно распределенные числа в заданном диапазоне\n",
    "print(np.random.uniform(2, 6, 10))  # массив случайных чисел от 2 до 6 размером 10\n",
    "print(np.random.uniform(2, 6, (2, 2)))  # массив случайных чисел от 2 до 6 размером 2 на 2"
   ]
  },
  {
   "cell_type": "markdown",
   "id": "2a3c5057-7164-4a51-924c-2f8777e12e7b",
   "metadata": {},
   "source": [
    "#### `matplotlib`\n",
    "Это чрезвычайно богатая возможностями библиотека для построения графиков. Рекомендуется ознакомиться с [галереей примеров на сайте библиотеки](https://matplotlib.org/stable/gallery/index.html).\n",
    "\n",
    "Здесь рассмотрим несколько простых возможностей библиотеки\n"
   ]
  },
  {
   "cell_type": "code",
   "execution_count": 15,
   "id": "80a4e42e-b197-457b-b4d9-f4ff2c523364",
   "metadata": {},
   "outputs": [
    {
     "data": {
      "image/png": "[encoded data removed]",
      "text/plain": [
       "<Figure size 640x480 with 1 Axes>"
      ]
     },
     "metadata": {},
     "output_type": "display_data"
    }
   ],
   "source": [
    "from matplotlib import pyplot as plt  # рекомендуемый способ подключения библиотеки\n",
    "# при первом вызове функции plt.plot автоматически создаётся фигура, на неё помещаются одни координатные оси\n",
    "# если создание фигуры / осей нужно специфицировать — напр. сделать нестандартный размер, или несколько графиков на одной фигуре,\n",
    "# эти функции можно вызвать вручную\n",
    "plt.plot([1, 2, 3, 4], [5, 6, 7, 8])  # строим график в виде линии\n",
    "# здесь функциям plot, scatter передаём минимальное количество данных: два списка (могут быть np.array, tuple, и проч.) c координатами x и y\n",
    "plt.scatter([1, 2, 3, 4], [6, 5, 8, 7])  # строим график в виде несоединенных точек\n",
    "plt.show()  # необходимо вызвать для показа фигуры"
   ]
  },
  {
   "cell_type": "markdown",
   "id": "d8922d3f-456f-43fa-9f92-e5488c4e041e",
   "metadata": {},
   "source": [
    "как построить произвольную функцию:"
   ]
  },
  {
   "cell_type": "code",
   "execution_count": 16,
   "id": "33c69ea9-b981-4d4c-bbb8-584ff2b854c8",
   "metadata": {},
   "outputs": [
    {
     "data": {
      "image/png": "[encoded data removed]",
      "text/plain": [
       "<Figure size 640x480 with 1 Axes>"
      ]
     },
     "metadata": {},
     "output_type": "display_data"
    }
   ],
   "source": [
    "from matplotlib import pyplot as plt\n",
    "import numpy as np\n",
    "xs = np.linspace(-10, 10, 100)  # создаём одномерный numpy.ndarray c x-координатами в виде 100 точек равномерно распределённых от -10 до 10\n",
    "ys = np.arctan(xs)  # вычисляем y-координаты, хотим построить функцию арктангенс\n",
    "plt.plot(xs, ys, label='Название линии 1')  # строим график, label='Название линии 1' позволяет позже создать легенду графика\n",
    "plt.xlabel('Подпись координаты x')  # делаем подписи осей, название графика\n",
    "plt.ylabel('Подпись координаты y')\n",
    "plt.title('Заголовок графика')\n",
    "plt.legend()  # создаём легенду\n",
    "plt.show()"
   ]
  },
  {
   "cell_type": "markdown",
   "id": "d97ba3cf-d091-4a7e-8e8a-15788ffb5b70",
   "metadata": {},
   "source": [
    "можно задавать вид линии (`linestyle`) и обозначения точек (`marker`). \n",
    "Их можно комбинировать между собой произвольным образом.\n",
    "\n",
    "- [Полный список маркеров](https://matplotlib.org/stable/api/markers_api.html)\n",
    "- [Полный список стилей линий](https://matplotlib.org/stable/gallery/lines_bars_and_markers/linestyles.html)"
   ]
  },
  {
   "cell_type": "code",
   "execution_count": 17,
   "id": "4962caa1-314b-4864-a4a0-1ad64a39ab84",
   "metadata": {},
   "outputs": [
    {
     "data": {
      "image/png": "[encoded data removed]",
      "text/plain": [
       "<Figure size 640x480 with 1 Axes>"
      ]
     },
     "metadata": {},
     "output_type": "display_data"
    }
   ],
   "source": [
    "from matplotlib import pyplot as plt\n",
    "import numpy as np\n",
    "xs = np.linspace(-10, 10, 100)\n",
    "ys = np.arctan(xs)\n",
    "plt.plot(xs[::20], ys[::20], marker='.', linestyle='')\n",
    "plt.plot(xs[5::20], ys[5::20], marker='o', linestyle='')\n",
    "plt.plot(xs[10::20], ys[10::20], marker='D', linestyle='')\n",
    "plt.plot(xs[15::20], ys[15::20], marker='X', linestyle='')\n",
    "plt.plot(-xs, 3 * ys/4, marker='', linestyle='--')\n",
    "plt.plot(-xs, ys/2, marker='', linestyle='-')\n",
    "plt.plot(-xs, ys/4, marker='', linestyle='-.')\n",
    "plt.show()"
   ]
  },
  {
   "cell_type": "markdown",
   "id": "edeefa3f-b210-4a70-993c-66785a6e0303",
   "metadata": {},
   "source": [
    "Возможности стилизации графиков ограничены только вашей фантазией.\n",
    "<div>\n",
    "<img src=\"img/imagination.jpg\" width=\"500\"/>\n",
    "</div>"
   ]
  },
  {
   "cell_type": "code",
   "execution_count": null,
   "id": "1ffc572c-5c30-4deb-b37b-7fc9c3e1b37d",
   "metadata": {},
   "outputs": [],
   "source": []
  },
  {
   "cell_type": "code",
   "execution_count": null,
   "id": "ee57071f-e56e-4f1b-9e80-44b8e2782f21",
   "metadata": {},
   "outputs": [],
   "source": []
  }
 ],
 "metadata": {
  "kernelspec": {
   "display_name": "Python 3 (ipykernel)",
   "language": "python",
   "name": "python3"
  },
  "language_info": {
   "codemirror_mode": {
    "name": "ipython",
    "version": 3
   },
   "file_extension": ".py",
   "mimetype": "text/x-python",
   "name": "python",
   "nbconvert_exporter": "python",
   "pygments_lexer": "ipython3",
   "version": "3.11.9"
  }
 },
 "nbformat": 4,
 "nbformat_minor": 5
}
