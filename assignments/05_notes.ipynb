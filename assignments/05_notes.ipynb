{
 "cells": [
  {
   "cell_type": "markdown",
   "id": "3bdc6910-4e80-4811-81f1-e2a36b9954b5",
   "metadata": {},
   "source": [
    "# Занятие 5:\n",
    "## Ещё раз про классы."
   ]
  },
  {
   "cell_type": "code",
   "execution_count": null,
   "id": "4df20d8c-b813-4c4c-bcde-8a2945ae3e9a",
   "metadata": {},
   "outputs": [],
   "source": []
  }
 ],
 "metadata": {
  "kernelspec": {
   "display_name": "Python 3 (ipykernel)",
   "language": "python",
   "name": "python3"
  },
  "language_info": {
   "codemirror_mode": {
    "name": "ipython",
    "version": 3
   },
   "file_extension": ".py",
   "mimetype": "text/x-python",
   "name": "python",
   "nbconvert_exporter": "python",
   "pygments_lexer": "ipython3",
   "version": "3.11.7"
  }
 },
 "nbformat": 4,
 "nbformat_minor": 5
}
