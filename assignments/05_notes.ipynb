{
 "cells": [
  {
   "cell_type": "markdown",
   "id": "3bdc6910-4e80-4811-81f1-e2a36b9954b5",
   "metadata": {},
   "source": [
    "# Занятие 5:\n",
    "## Анализ данных: основы"
   ]
  },
  {
   "cell_type": "markdown",
   "id": "817266bb-4057-4604-8b08-2cd45578420d",
   "metadata": {},
   "source": [
    "### Ключевые библиотеки\n",
    "\n",
    "Основные библиотеки Python для анализа данных это `numpy`, `scipy`, `pandas`, `matplotlib`. \n",
    "Все они составляют единую экосистему, с простым взаимодействием объектов и функций из разных библиотек между собой."
   ]
  },
  {
   "cell_type": "markdown",
   "id": "ced20da4-8d2e-42f8-8565-5d167d04b122",
   "metadata": {},
   "source": [
    "#### `numpy`\n",
    "Костяком этой библиотеки является класс `numpy.ndarray` представляющий собой массив произвольной размерности и формы. \n",
    "Массивы `numpy` оптимизированы для векторных, т.е. массово-параллельных операций: простых действий выполняемых независимо над каждым элементом массива.\n",
    "Покажем это на примере поэлементного сложения:"
   ]
  },
  {
   "cell_type": "code",
   "execution_count": 1,
   "id": "efb2dc7f-df6b-418f-b1e2-a414e6874bae",
   "metadata": {},
   "outputs": [
    {
     "name": "stdout",
     "output_type": "stream",
     "text": [
      "59.5 µs ± 2.12 µs per loop (mean ± std. dev. of 7 runs, 10,000 loops each)\n",
      "852 ns ± 16.4 ns per loop (mean ± std. dev. of 7 runs, 1,000,000 loops each)\n"
     ]
    }
   ],
   "source": [
    "import numpy as np  # подключаем библиотеку numpy, в дальнейшем обращение к ней будет np\n",
    "# создаём два обычных списка Python из тысячи случайных целых элементов. \n",
    "# функция np.random.randint(100) возвращает случайное целое число в диапазоне (0, 100)\n",
    "l1 = [np.random.randint(100) for _ in range(1000)]\n",
    "l2 = [np.random.randint(100) for _ in range(1000)]\n",
    "lsum = [0] * len(l1) # cоздаём массив где будет храниться сумма\n",
    "%timeit for i in range(len(lsum)): lsum[i] = l1[i] + l2[i]  # замеряем сколько времени занимает операция поэлементного сложения\n",
    "# создаём массивы numpy a1, a2 из списков l1, l2 \n",
    "a1 = np.array(l1)\n",
    "a2 = np.array(l2)\n",
    "%timeit asum = a1 + a2  # замеряем сколько времени занимает операция поэлементного сложения"
   ]
  },
  {
   "cell_type": "markdown",
   "id": "a1a8d421-0e37-4fb9-ae9b-4f2b15052be8",
   "metadata": {},
   "source": [
    "##### Создание `numpy`-массивов\n",
    "Наиболее используемые способы их задания следующие:\n",
    "- Из стандартных контейнеров Python (напр. `tuple`, `list`)\n",
    "- Массивы заданной формы со всеми одинаковыми элементами (напр. `np.zeros`, `np.ones`)\n",
    "- Диапазоны `np.arange`, `np.linspace`"
   ]
  },
  {
   "cell_type": "code",
   "execution_count": 6,
   "id": "dcf36f65-835f-4bf3-9e6f-a1eec5d41454",
   "metadata": {},
   "outputs": [
    {
     "name": "stdout",
     "output_type": "stream",
     "text": [
      "[1 2 3]\n",
      "[[1. 1. 1.]\n",
      " [1. 1. 1.]]\n"
     ]
    }
   ],
   "source": [
    "import numpy as np\n",
    "# создаём numpy-массив из списка:\n",
    "l1 = [1, 2, 3]\n",
    "a1 = np.array(l1)\n",
    "print(a1)\n",
    "# создаём numpy-массив из единиц заданной формы:\n",
    "a2 = np.ones((2, 3))  # создаёт матрицу 2 на 3 \n",
    "print(a2)"
   ]
  },
  {
   "cell_type": "code",
   "execution_count": 9,
   "id": "934bab3b-65d1-4a82-9125-61f0f99ffae7",
   "metadata": {},
   "outputs": [
    {
     "name": "stdout",
     "output_type": "stream",
     "text": [
      "[1 2 3 4]\n",
      "[1.         2.33333333 3.66666667 5.        ]\n"
     ]
    }
   ],
   "source": [
    "import numpy as np\n",
    "# функция numpy.arange подобна функции range из стандартной библиотеки. отличие только в том что она сразу генерирует numpy-массив.\n",
    "# в качестве аргументов передаются: начало диапазона, конец, шаг. Конец в последовательность не включён.\n",
    "a3 = np.arange(1, 5, 1)\n",
    "print(a3)\n",
    "# аналогичной, но не такой же, является функция linspace. \n",
    "# в неё передаются начало диапазона, конец, количество элементов (расположенных равномерно между началом и концом)\n",
    "a4 = np.linspace(1, 5, 4)\n",
    "print(a4)"
   ]
  },
  {
   "cell_type": "markdown",
   "id": "8ba394ea-1cab-4876-aa80-30b912a37906",
   "metadata": {},
   "source": [
    "##### Вычисления с `numpy`-массивами\n",
    "Для работы с массивами в `numpy` определены универсальные функции (`ufunc`), воздействующие на массивы поэлементно. \n",
    "Например:"
   ]
  },
  {
   "cell_type": "code",
   "execution_count": 17,
   "id": "9c7829ff-1a62-4ac5-b5cd-ed96f1cf015c",
   "metadata": {},
   "outputs": [
    {
     "name": "stdout",
     "output_type": "stream",
     "text": [
      "a5 =  [-1.   -0.75 -0.5  -0.25  0.    0.25  0.5   0.75  1.  ]\n",
      "a5 + 1 =  [0.   0.25 0.5  0.75 1.   1.25 1.5  1.75 2.  ]\n",
      "a5 * 2 =  [-2.  -1.5 -1.  -0.5  0.   0.5  1.   1.5  2. ]\n"
     ]
    }
   ],
   "source": [
    "import numpy as np\n",
    "a5 = np.linspace(-1, 1, 9)\n",
    "# арифметические операции действуют поэлементно:\n",
    "print('a5 = ', a5)\n",
    "print('a5 + 1 = ', a5 + 1)\n",
    "print('a5 * 2 = ', a5 * 2)"
   ]
  },
  {
   "cell_type": "code",
   "execution_count": 25,
   "id": "54bb8a71-cd66-4218-a51a-d6b3ba2be41d",
   "metadata": {},
   "outputs": [
    {
     "name": "stdout",
     "output_type": "stream",
     "text": [
      "a5 =  [-1.   -0.75 -0.5  -0.25  0.    0.25  0.5   0.75  1.  ]\n",
      "a6 =  [0 1 2 3 4 5 6 7 8]\n",
      "a5 + a6 =  [-1.    0.25  1.5   2.75  4.    5.25  6.5   7.75  9.  ]\n",
      "a5 * a6 =  [-0.   -0.75 -1.   -0.75  0.    1.25  3.    5.25  8.  ]\n"
     ]
    }
   ],
   "source": [
    "# также поэлементно действуют операции с другими numpy-массивами\n",
    "# арифметические операции можно проводить только с массивами одной формы!\n",
    "import numpy as np\n",
    "a5 = np.linspace(-1, 1, 9)\n",
    "a6 = np.arange(0, 9, 1)\n",
    "print('a5 = ', a5)\n",
    "print('a6 = ', a6)\n",
    "print('a5 + a6 = ', a5 + a6)\n",
    "print('a5 * a6 = ', a5 * a6)"
   ]
  },
  {
   "cell_type": "code",
   "execution_count": 39,
   "id": "ecc35894-17d6-4e03-81a4-154f4a993b08",
   "metadata": {},
   "outputs": [
    {
     "name": "stdout",
     "output_type": "stream",
     "text": [
      "[[2. 2.]\n",
      " [2. 2.]]\n",
      "[[-1. -1.]\n",
      " [-1. -1.]]\n"
     ]
    }
   ],
   "source": [
    "# импортированные из numpy математические функции действуют также поэлементно\n",
    "import numpy as np\n",
    "a7 = np.ones((2, 2))\n",
    "print(np.log10(a7 * 100.))\n",
    "print(np.cos(a7 * np.pi))"
   ]
  },
  {
   "cell_type": "markdown",
   "id": "ebc67f6f-0878-4de8-9bb2-1e8e983368a1",
   "metadata": {},
   "source": [
    "##### Индексация, срезы, сортировка `numpy`-массивов"
   ]
  },
  {
   "cell_type": "markdown",
   "id": "12d1aa17-52dd-4f61-a413-055a286b0185",
   "metadata": {},
   "source": [
    "Транспонирование, соединение вдоль оси argsort. \n",
    "arange, linspace. \n",
    "random uniform."
   ]
  },
  {
   "cell_type": "markdown",
   "id": "2a3c5057-7164-4a51-924c-2f8777e12e7b",
   "metadata": {},
   "source": [
    "#### `matplotlib`\n",
    "plot, dashed, semilogx"
   ]
  },
  {
   "cell_type": "code",
   "execution_count": 5,
   "id": "80a4e42e-b197-457b-b4d9-f4ff2c523364",
   "metadata": {},
   "outputs": [
    {
     "data": {
      "image/png": "[encoded data removed]",
      "text/plain": [
       "<Figure size 640x480 with 1 Axes>"
      ]
     },
     "metadata": {},
     "output_type": "display_data"
    }
   ],
   "source": [
    "from matplotlib import pyplot as plt\n",
    "plt.plot([1, 2, 3, 4], [5, 6, 7, 8])\n",
    "plt.scatter([1, 2, 3, 4], [5, 6, 7, 8])\n",
    "plt.show()"
   ]
  },
  {
   "cell_type": "code",
   "execution_count": null,
   "id": "ea79e5d6-d2e7-4e69-a0c4-ac5073f96f82",
   "metadata": {},
   "outputs": [],
   "source": []
  },
  {
   "cell_type": "code",
   "execution_count": null,
   "id": "33c69ea9-b981-4d4c-bbb8-584ff2b854c8",
   "metadata": {},
   "outputs": [],
   "source": []
  },
  {
   "cell_type": "code",
   "execution_count": null,
   "id": "f5979f03-e29e-46b9-ac7e-db4f31e72d6c",
   "metadata": {},
   "outputs": [],
   "source": []
  }
 ],
 "metadata": {
  "kernelspec": {
   "display_name": "Python 3 (ipykernel)",
   "language": "python",
   "name": "python3"
  },
  "language_info": {
   "codemirror_mode": {
    "name": "ipython",
    "version": 3
   },
   "file_extension": ".py",
   "mimetype": "text/x-python",
   "name": "python",
   "nbconvert_exporter": "python",
   "pygments_lexer": "ipython3",
   "version": "3.11.8"
  }
 },
 "nbformat": 4,
 "nbformat_minor": 5
}
