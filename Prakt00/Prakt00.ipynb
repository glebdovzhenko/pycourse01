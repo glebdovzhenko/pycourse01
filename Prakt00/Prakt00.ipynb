{
 "cells": [
  {
   "cell_type": "markdown",
   "id": "e1d895ae-19fa-49f0-8354-a6818af7f662",
   "metadata": {},
   "source": [
    "# Проверочный блокнот"
   ]
  },
  {
   "cell_type": "markdown",
   "id": "dc142df1-bd0d-461b-8e95-f66c3ff4d2a2",
   "metadata": {},
   "source": [
    "## Задача 1\n",
    "Написать код, который присваивает некоторым переменным заранее известные значения.\n",
    "```Python\n",
    "a = np.array([1, 2, 3])\n",
    "b = True\n",
    "c = {1: 2, 3: 4}\n",
    "```"
   ]
  },
  {
   "cell_type": "code",
   "execution_count": 3,
   "id": "ea1f401f-e107-4a5e-8c64-59f7740e574c",
   "metadata": {},
   "outputs": [],
   "source": [
    "import numpy as np\n",
    "a = np.array([1, 2, 3])\n",
    "b = True\n",
    "c = {1: 2, 3: 4}"
   ]
  },
  {
   "cell_type": "code",
   "execution_count": null,
   "id": "18d3ceff-a376-49a6-a120-281ee7dd9a8e",
   "metadata": {},
   "outputs": [],
   "source": []
  }
 ],
 "metadata": {
  "kernelspec": {
   "display_name": "Python 3 (ipykernel)",
   "language": "python",
   "name": "python3"
  },
  "language_info": {
   "codemirror_mode": {
    "name": "ipython",
    "version": 3
   },
   "file_extension": ".py",
   "mimetype": "text/x-python",
   "name": "python",
   "nbconvert_exporter": "python",
   "pygments_lexer": "ipython3",
   "version": "3.11.5"
  }
 },
 "nbformat": 4,
 "nbformat_minor": 5
}
