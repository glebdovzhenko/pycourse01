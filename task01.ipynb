{
 "cells": [
  {
   "cell_type": "code",
   "execution_count": 1,
   "id": "68b19d93-b535-4d19-ad8b-acdf1b8735a4",
   "metadata": {},
   "outputs": [],
   "source": [
    "import numpy as np"
   ]
  },
  {
   "cell_type": "markdown",
   "id": "e1d895ae-19fa-49f0-8354-a6818af7f662",
   "metadata": {},
   "source": [
    "# Testing if MD cells break things"
   ]
  },
  {
   "cell_type": "code",
   "execution_count": 2,
   "id": "ea1f401f-e107-4a5e-8c64-59f7740e574c",
   "metadata": {},
   "outputs": [],
   "source": [
    "a = np.array([1, 2, 3])\n",
    "b = True\n",
    "c = {1: 2, 3: 4}"
   ]
  },
  {
   "cell_type": "code",
   "execution_count": null,
   "id": "a71b2a05-6bc0-4591-9339-f6a8eccf03b2",
   "metadata": {},
   "outputs": [],
   "source": []
  }
 ],
 "metadata": {
  "kernelspec": {
   "display_name": "Python 3 (ipykernel)",
   "language": "python",
   "name": "python3"
  },
  "language_info": {
   "codemirror_mode": {
    "name": "ipython",
    "version": 3
   },
   "file_extension": ".py",
   "mimetype": "text/x-python",
   "name": "python",
   "nbconvert_exporter": "python",
   "pygments_lexer": "ipython3",
   "version": "3.11.5"
  }
 },
 "nbformat": 4,
 "nbformat_minor": 5
}
